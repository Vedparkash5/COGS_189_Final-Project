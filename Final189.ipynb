{
  "nbformat": 4,
  "nbformat_minor": 0,
  "metadata": {
    "colab": {
      "name": "cleaning_Final189.ipynb",
      "provenance": [],
      "collapsed_sections": [
        "tqGuM_tEDN0u",
        "2bN8D9UgFM1K",
        "gizMINfYG4lA",
        "ZZrnH9R6JhE6",
        "1CUozTfHJoDZ",
        "pvUcUf4pJtlp",
        "Xf2zHKClxrqf"
      ],
      "toc_visible": true,
      "include_colab_link": true
    },
    "kernelspec": {
      "name": "python3",
      "display_name": "Python 3"
    }
  },
  "cells": [
    {
      "cell_type": "markdown",
      "metadata": {
        "id": "view-in-github",
        "colab_type": "text"
      },
      "source": [
        "<a href=\"https://colab.research.google.com/github/Vedparkash5/COGS_189_Final-Project/blob/main/cleaning_Final189.ipynb\" target=\"_parent\"><img src=\"https://colab.research.google.com/assets/colab-badge.svg\" alt=\"Open In Colab\"/></a>"
      ]
    },
    {
      "cell_type": "code",
      "metadata": {
        "id": "Yq7ghKO2Cmfi"
      },
      "source": [
        ""
      ],
      "execution_count": null,
      "outputs": []
    },
    {
      "cell_type": "markdown",
      "metadata": {
        "id": "53JGVfQxqN99"
      },
      "source": [
        "The data we used is from the UCI Machine Learning Reository\n",
        "https://archive.ics.uci.edu/ml/datasets/eeg+database"
      ]
    },
    {
      "cell_type": "code",
      "metadata": {
        "id": "TuJ6yNR4C0cc"
      },
      "source": [
        "\n",
        "import pandas as pd\n",
        "import numpy as np\n",
        "import matplotlib.pyplot as plt\n",
        "import matplotlib as mpl\n",
        "from cycler import cycler\n",
        "import scipy.io\n",
        "from sklearn.model_selection import train_test_split\n",
        "from sklearn.preprocessing import StandardScaler\n",
        "\n",
        "# Input data files are available in the read-only \"../input/\" directory\n",
        "# For example, running this (by clicking run or pressing Shift+Enter) will list all files under the input directory\n",
        "import seaborn as sns; sns.set_theme()\n",
        "import os\n",
        "import pickle\n",
        "from sklearn.metrics import roc_auc_score, accuracy_score, precision_score, recall_score\n",
        "import tensorflow as tf\n",
        "from tensorflow import keras\n",
        " "
      ],
      "execution_count": 1,
      "outputs": []
    },
    {
      "cell_type": "markdown",
      "metadata": {
        "id": "Al1a9p3rC2Jj"
      },
      "source": [
        "#Exploratory Data Analysis"
      ]
    },
    {
      "cell_type": "code",
      "metadata": {
        "colab": {
          "base_uri": "https://localhost:8080/",
          "height": 427
        },
        "id": "CLZZ9vY3C5sf",
        "outputId": "2c6f0b31-8eec-4d09-de61-b3404224fe05"
      },
      "source": [
        "# Read data - Steven\n",
        "data = pd.read_csv('epilepsy.csv.txt')\n",
        "# Create binary label whether patient is having a seizure - Steven\n",
        "data['label'] = data['y'].apply(lambda x: 1 if x == 1 else 0)\n",
        "# drop column - Steven\n",
        "data.pop('y')\n",
        "data"
      ],
      "execution_count": 2,
      "outputs": [
        {
          "output_type": "execute_result",
          "data": {
            "text/html": [
              "<div>\n",
              "<style scoped>\n",
              "    .dataframe tbody tr th:only-of-type {\n",
              "        vertical-align: middle;\n",
              "    }\n",
              "\n",
              "    .dataframe tbody tr th {\n",
              "        vertical-align: top;\n",
              "    }\n",
              "\n",
              "    .dataframe thead th {\n",
              "        text-align: right;\n",
              "    }\n",
              "</style>\n",
              "<table border=\"1\" class=\"dataframe\">\n",
              "  <thead>\n",
              "    <tr style=\"text-align: right;\">\n",
              "      <th></th>\n",
              "      <th>Unnamed: 0</th>\n",
              "      <th>X1</th>\n",
              "      <th>X2</th>\n",
              "      <th>X3</th>\n",
              "      <th>X4</th>\n",
              "      <th>X5</th>\n",
              "      <th>X6</th>\n",
              "      <th>X7</th>\n",
              "      <th>X8</th>\n",
              "      <th>X9</th>\n",
              "      <th>X10</th>\n",
              "      <th>X11</th>\n",
              "      <th>X12</th>\n",
              "      <th>X13</th>\n",
              "      <th>X14</th>\n",
              "      <th>X15</th>\n",
              "      <th>X16</th>\n",
              "      <th>X17</th>\n",
              "      <th>X18</th>\n",
              "      <th>X19</th>\n",
              "      <th>X20</th>\n",
              "      <th>X21</th>\n",
              "      <th>X22</th>\n",
              "      <th>X23</th>\n",
              "      <th>X24</th>\n",
              "      <th>X25</th>\n",
              "      <th>X26</th>\n",
              "      <th>X27</th>\n",
              "      <th>X28</th>\n",
              "      <th>X29</th>\n",
              "      <th>X30</th>\n",
              "      <th>X31</th>\n",
              "      <th>X32</th>\n",
              "      <th>X33</th>\n",
              "      <th>X34</th>\n",
              "      <th>X35</th>\n",
              "      <th>X36</th>\n",
              "      <th>X37</th>\n",
              "      <th>X38</th>\n",
              "      <th>X39</th>\n",
              "      <th>...</th>\n",
              "      <th>X140</th>\n",
              "      <th>X141</th>\n",
              "      <th>X142</th>\n",
              "      <th>X143</th>\n",
              "      <th>X144</th>\n",
              "      <th>X145</th>\n",
              "      <th>X146</th>\n",
              "      <th>X147</th>\n",
              "      <th>X148</th>\n",
              "      <th>X149</th>\n",
              "      <th>X150</th>\n",
              "      <th>X151</th>\n",
              "      <th>X152</th>\n",
              "      <th>X153</th>\n",
              "      <th>X154</th>\n",
              "      <th>X155</th>\n",
              "      <th>X156</th>\n",
              "      <th>X157</th>\n",
              "      <th>X158</th>\n",
              "      <th>X159</th>\n",
              "      <th>X160</th>\n",
              "      <th>X161</th>\n",
              "      <th>X162</th>\n",
              "      <th>X163</th>\n",
              "      <th>X164</th>\n",
              "      <th>X165</th>\n",
              "      <th>X166</th>\n",
              "      <th>X167</th>\n",
              "      <th>X168</th>\n",
              "      <th>X169</th>\n",
              "      <th>X170</th>\n",
              "      <th>X171</th>\n",
              "      <th>X172</th>\n",
              "      <th>X173</th>\n",
              "      <th>X174</th>\n",
              "      <th>X175</th>\n",
              "      <th>X176</th>\n",
              "      <th>X177</th>\n",
              "      <th>X178</th>\n",
              "      <th>label</th>\n",
              "    </tr>\n",
              "  </thead>\n",
              "  <tbody>\n",
              "    <tr>\n",
              "      <th>0</th>\n",
              "      <td>X21.V1.791</td>\n",
              "      <td>135</td>\n",
              "      <td>190</td>\n",
              "      <td>229</td>\n",
              "      <td>223</td>\n",
              "      <td>192</td>\n",
              "      <td>125</td>\n",
              "      <td>55</td>\n",
              "      <td>-9</td>\n",
              "      <td>-33</td>\n",
              "      <td>-38</td>\n",
              "      <td>-10</td>\n",
              "      <td>35</td>\n",
              "      <td>64</td>\n",
              "      <td>113</td>\n",
              "      <td>152</td>\n",
              "      <td>164</td>\n",
              "      <td>127</td>\n",
              "      <td>50</td>\n",
              "      <td>-47</td>\n",
              "      <td>-121</td>\n",
              "      <td>-138</td>\n",
              "      <td>-125</td>\n",
              "      <td>-101</td>\n",
              "      <td>-50</td>\n",
              "      <td>11</td>\n",
              "      <td>39</td>\n",
              "      <td>24</td>\n",
              "      <td>48</td>\n",
              "      <td>64</td>\n",
              "      <td>46</td>\n",
              "      <td>13</td>\n",
              "      <td>-19</td>\n",
              "      <td>-61</td>\n",
              "      <td>-96</td>\n",
              "      <td>-130</td>\n",
              "      <td>-132</td>\n",
              "      <td>-116</td>\n",
              "      <td>-115</td>\n",
              "      <td>-71</td>\n",
              "      <td>...</td>\n",
              "      <td>54</td>\n",
              "      <td>90</td>\n",
              "      <td>111</td>\n",
              "      <td>107</td>\n",
              "      <td>64</td>\n",
              "      <td>32</td>\n",
              "      <td>18</td>\n",
              "      <td>-25</td>\n",
              "      <td>-69</td>\n",
              "      <td>-65</td>\n",
              "      <td>-44</td>\n",
              "      <td>-33</td>\n",
              "      <td>-57</td>\n",
              "      <td>-88</td>\n",
              "      <td>-114</td>\n",
              "      <td>-130</td>\n",
              "      <td>-114</td>\n",
              "      <td>-83</td>\n",
              "      <td>-53</td>\n",
              "      <td>-79</td>\n",
              "      <td>-72</td>\n",
              "      <td>-85</td>\n",
              "      <td>-109</td>\n",
              "      <td>-98</td>\n",
              "      <td>-72</td>\n",
              "      <td>-65</td>\n",
              "      <td>-63</td>\n",
              "      <td>-11</td>\n",
              "      <td>10</td>\n",
              "      <td>8</td>\n",
              "      <td>-17</td>\n",
              "      <td>-15</td>\n",
              "      <td>-31</td>\n",
              "      <td>-77</td>\n",
              "      <td>-103</td>\n",
              "      <td>-127</td>\n",
              "      <td>-116</td>\n",
              "      <td>-83</td>\n",
              "      <td>-51</td>\n",
              "      <td>0</td>\n",
              "    </tr>\n",
              "    <tr>\n",
              "      <th>1</th>\n",
              "      <td>X15.V1.924</td>\n",
              "      <td>386</td>\n",
              "      <td>382</td>\n",
              "      <td>356</td>\n",
              "      <td>331</td>\n",
              "      <td>320</td>\n",
              "      <td>315</td>\n",
              "      <td>307</td>\n",
              "      <td>272</td>\n",
              "      <td>244</td>\n",
              "      <td>232</td>\n",
              "      <td>237</td>\n",
              "      <td>258</td>\n",
              "      <td>212</td>\n",
              "      <td>2</td>\n",
              "      <td>-267</td>\n",
              "      <td>-605</td>\n",
              "      <td>-850</td>\n",
              "      <td>-1001</td>\n",
              "      <td>-1109</td>\n",
              "      <td>-1090</td>\n",
              "      <td>-967</td>\n",
              "      <td>-746</td>\n",
              "      <td>-464</td>\n",
              "      <td>-152</td>\n",
              "      <td>118</td>\n",
              "      <td>318</td>\n",
              "      <td>427</td>\n",
              "      <td>473</td>\n",
              "      <td>485</td>\n",
              "      <td>447</td>\n",
              "      <td>397</td>\n",
              "      <td>339</td>\n",
              "      <td>312</td>\n",
              "      <td>314</td>\n",
              "      <td>326</td>\n",
              "      <td>335</td>\n",
              "      <td>332</td>\n",
              "      <td>324</td>\n",
              "      <td>310</td>\n",
              "      <td>...</td>\n",
              "      <td>27</td>\n",
              "      <td>146</td>\n",
              "      <td>229</td>\n",
              "      <td>269</td>\n",
              "      <td>297</td>\n",
              "      <td>307</td>\n",
              "      <td>303</td>\n",
              "      <td>305</td>\n",
              "      <td>306</td>\n",
              "      <td>307</td>\n",
              "      <td>280</td>\n",
              "      <td>231</td>\n",
              "      <td>159</td>\n",
              "      <td>85</td>\n",
              "      <td>51</td>\n",
              "      <td>43</td>\n",
              "      <td>62</td>\n",
              "      <td>63</td>\n",
              "      <td>63</td>\n",
              "      <td>69</td>\n",
              "      <td>89</td>\n",
              "      <td>123</td>\n",
              "      <td>136</td>\n",
              "      <td>127</td>\n",
              "      <td>102</td>\n",
              "      <td>95</td>\n",
              "      <td>105</td>\n",
              "      <td>131</td>\n",
              "      <td>163</td>\n",
              "      <td>168</td>\n",
              "      <td>164</td>\n",
              "      <td>150</td>\n",
              "      <td>146</td>\n",
              "      <td>152</td>\n",
              "      <td>157</td>\n",
              "      <td>156</td>\n",
              "      <td>154</td>\n",
              "      <td>143</td>\n",
              "      <td>129</td>\n",
              "      <td>1</td>\n",
              "    </tr>\n",
              "    <tr>\n",
              "      <th>2</th>\n",
              "      <td>X8.V1.1</td>\n",
              "      <td>-32</td>\n",
              "      <td>-39</td>\n",
              "      <td>-47</td>\n",
              "      <td>-37</td>\n",
              "      <td>-32</td>\n",
              "      <td>-36</td>\n",
              "      <td>-57</td>\n",
              "      <td>-73</td>\n",
              "      <td>-85</td>\n",
              "      <td>-94</td>\n",
              "      <td>-99</td>\n",
              "      <td>-94</td>\n",
              "      <td>-96</td>\n",
              "      <td>-104</td>\n",
              "      <td>-103</td>\n",
              "      <td>-92</td>\n",
              "      <td>-75</td>\n",
              "      <td>-69</td>\n",
              "      <td>-69</td>\n",
              "      <td>-53</td>\n",
              "      <td>-37</td>\n",
              "      <td>-14</td>\n",
              "      <td>-10</td>\n",
              "      <td>-39</td>\n",
              "      <td>-78</td>\n",
              "      <td>-102</td>\n",
              "      <td>-98</td>\n",
              "      <td>-80</td>\n",
              "      <td>-54</td>\n",
              "      <td>-40</td>\n",
              "      <td>-35</td>\n",
              "      <td>-39</td>\n",
              "      <td>-32</td>\n",
              "      <td>-13</td>\n",
              "      <td>7</td>\n",
              "      <td>34</td>\n",
              "      <td>41</td>\n",
              "      <td>33</td>\n",
              "      <td>6</td>\n",
              "      <td>...</td>\n",
              "      <td>-82</td>\n",
              "      <td>-107</td>\n",
              "      <td>-126</td>\n",
              "      <td>-124</td>\n",
              "      <td>-108</td>\n",
              "      <td>-84</td>\n",
              "      <td>-68</td>\n",
              "      <td>-61</td>\n",
              "      <td>-56</td>\n",
              "      <td>-63</td>\n",
              "      <td>-62</td>\n",
              "      <td>-33</td>\n",
              "      <td>1</td>\n",
              "      <td>28</td>\n",
              "      <td>45</td>\n",
              "      <td>37</td>\n",
              "      <td>48</td>\n",
              "      <td>62</td>\n",
              "      <td>80</td>\n",
              "      <td>66</td>\n",
              "      <td>23</td>\n",
              "      <td>-11</td>\n",
              "      <td>-39</td>\n",
              "      <td>-44</td>\n",
              "      <td>-42</td>\n",
              "      <td>-45</td>\n",
              "      <td>-48</td>\n",
              "      <td>-42</td>\n",
              "      <td>-6</td>\n",
              "      <td>29</td>\n",
              "      <td>57</td>\n",
              "      <td>64</td>\n",
              "      <td>48</td>\n",
              "      <td>19</td>\n",
              "      <td>-12</td>\n",
              "      <td>-30</td>\n",
              "      <td>-35</td>\n",
              "      <td>-35</td>\n",
              "      <td>-36</td>\n",
              "      <td>0</td>\n",
              "    </tr>\n",
              "    <tr>\n",
              "      <th>3</th>\n",
              "      <td>X16.V1.60</td>\n",
              "      <td>-105</td>\n",
              "      <td>-101</td>\n",
              "      <td>-96</td>\n",
              "      <td>-92</td>\n",
              "      <td>-89</td>\n",
              "      <td>-95</td>\n",
              "      <td>-102</td>\n",
              "      <td>-100</td>\n",
              "      <td>-87</td>\n",
              "      <td>-79</td>\n",
              "      <td>-72</td>\n",
              "      <td>-68</td>\n",
              "      <td>-74</td>\n",
              "      <td>-80</td>\n",
              "      <td>-83</td>\n",
              "      <td>-73</td>\n",
              "      <td>-68</td>\n",
              "      <td>-61</td>\n",
              "      <td>-58</td>\n",
              "      <td>-59</td>\n",
              "      <td>-64</td>\n",
              "      <td>-79</td>\n",
              "      <td>-84</td>\n",
              "      <td>-97</td>\n",
              "      <td>-94</td>\n",
              "      <td>-84</td>\n",
              "      <td>-77</td>\n",
              "      <td>-75</td>\n",
              "      <td>-72</td>\n",
              "      <td>-68</td>\n",
              "      <td>-76</td>\n",
              "      <td>-76</td>\n",
              "      <td>-72</td>\n",
              "      <td>-67</td>\n",
              "      <td>-69</td>\n",
              "      <td>-69</td>\n",
              "      <td>-69</td>\n",
              "      <td>-67</td>\n",
              "      <td>-68</td>\n",
              "      <td>...</td>\n",
              "      <td>-69</td>\n",
              "      <td>-66</td>\n",
              "      <td>-74</td>\n",
              "      <td>-69</td>\n",
              "      <td>-61</td>\n",
              "      <td>-51</td>\n",
              "      <td>-45</td>\n",
              "      <td>-45</td>\n",
              "      <td>-49</td>\n",
              "      <td>-58</td>\n",
              "      <td>-64</td>\n",
              "      <td>-78</td>\n",
              "      <td>-80</td>\n",
              "      <td>-90</td>\n",
              "      <td>-87</td>\n",
              "      <td>-83</td>\n",
              "      <td>-78</td>\n",
              "      <td>-64</td>\n",
              "      <td>-38</td>\n",
              "      <td>-22</td>\n",
              "      <td>-29</td>\n",
              "      <td>-42</td>\n",
              "      <td>-51</td>\n",
              "      <td>-68</td>\n",
              "      <td>-71</td>\n",
              "      <td>-69</td>\n",
              "      <td>-69</td>\n",
              "      <td>-74</td>\n",
              "      <td>-74</td>\n",
              "      <td>-80</td>\n",
              "      <td>-82</td>\n",
              "      <td>-81</td>\n",
              "      <td>-80</td>\n",
              "      <td>-77</td>\n",
              "      <td>-85</td>\n",
              "      <td>-77</td>\n",
              "      <td>-72</td>\n",
              "      <td>-69</td>\n",
              "      <td>-65</td>\n",
              "      <td>0</td>\n",
              "    </tr>\n",
              "    <tr>\n",
              "      <th>4</th>\n",
              "      <td>X20.V1.54</td>\n",
              "      <td>-9</td>\n",
              "      <td>-65</td>\n",
              "      <td>-98</td>\n",
              "      <td>-102</td>\n",
              "      <td>-78</td>\n",
              "      <td>-48</td>\n",
              "      <td>-16</td>\n",
              "      <td>0</td>\n",
              "      <td>-21</td>\n",
              "      <td>-59</td>\n",
              "      <td>-90</td>\n",
              "      <td>-103</td>\n",
              "      <td>-84</td>\n",
              "      <td>-43</td>\n",
              "      <td>-9</td>\n",
              "      <td>3</td>\n",
              "      <td>-21</td>\n",
              "      <td>-60</td>\n",
              "      <td>-96</td>\n",
              "      <td>-103</td>\n",
              "      <td>-75</td>\n",
              "      <td>-29</td>\n",
              "      <td>14</td>\n",
              "      <td>55</td>\n",
              "      <td>78</td>\n",
              "      <td>73</td>\n",
              "      <td>28</td>\n",
              "      <td>-13</td>\n",
              "      <td>-43</td>\n",
              "      <td>-68</td>\n",
              "      <td>-78</td>\n",
              "      <td>-75</td>\n",
              "      <td>-55</td>\n",
              "      <td>-41</td>\n",
              "      <td>-19</td>\n",
              "      <td>-20</td>\n",
              "      <td>-29</td>\n",
              "      <td>-36</td>\n",
              "      <td>-20</td>\n",
              "      <td>...</td>\n",
              "      <td>38</td>\n",
              "      <td>26</td>\n",
              "      <td>10</td>\n",
              "      <td>-4</td>\n",
              "      <td>-13</td>\n",
              "      <td>-8</td>\n",
              "      <td>0</td>\n",
              "      <td>10</td>\n",
              "      <td>19</td>\n",
              "      <td>29</td>\n",
              "      <td>57</td>\n",
              "      <td>63</td>\n",
              "      <td>45</td>\n",
              "      <td>7</td>\n",
              "      <td>-13</td>\n",
              "      <td>-23</td>\n",
              "      <td>-9</td>\n",
              "      <td>9</td>\n",
              "      <td>11</td>\n",
              "      <td>3</td>\n",
              "      <td>-1</td>\n",
              "      <td>-2</td>\n",
              "      <td>4</td>\n",
              "      <td>18</td>\n",
              "      <td>27</td>\n",
              "      <td>27</td>\n",
              "      <td>14</td>\n",
              "      <td>15</td>\n",
              "      <td>11</td>\n",
              "      <td>10</td>\n",
              "      <td>4</td>\n",
              "      <td>2</td>\n",
              "      <td>-12</td>\n",
              "      <td>-32</td>\n",
              "      <td>-41</td>\n",
              "      <td>-65</td>\n",
              "      <td>-83</td>\n",
              "      <td>-89</td>\n",
              "      <td>-73</td>\n",
              "      <td>0</td>\n",
              "    </tr>\n",
              "    <tr>\n",
              "      <th>...</th>\n",
              "      <td>...</td>\n",
              "      <td>...</td>\n",
              "      <td>...</td>\n",
              "      <td>...</td>\n",
              "      <td>...</td>\n",
              "      <td>...</td>\n",
              "      <td>...</td>\n",
              "      <td>...</td>\n",
              "      <td>...</td>\n",
              "      <td>...</td>\n",
              "      <td>...</td>\n",
              "      <td>...</td>\n",
              "      <td>...</td>\n",
              "      <td>...</td>\n",
              "      <td>...</td>\n",
              "      <td>...</td>\n",
              "      <td>...</td>\n",
              "      <td>...</td>\n",
              "      <td>...</td>\n",
              "      <td>...</td>\n",
              "      <td>...</td>\n",
              "      <td>...</td>\n",
              "      <td>...</td>\n",
              "      <td>...</td>\n",
              "      <td>...</td>\n",
              "      <td>...</td>\n",
              "      <td>...</td>\n",
              "      <td>...</td>\n",
              "      <td>...</td>\n",
              "      <td>...</td>\n",
              "      <td>...</td>\n",
              "      <td>...</td>\n",
              "      <td>...</td>\n",
              "      <td>...</td>\n",
              "      <td>...</td>\n",
              "      <td>...</td>\n",
              "      <td>...</td>\n",
              "      <td>...</td>\n",
              "      <td>...</td>\n",
              "      <td>...</td>\n",
              "      <td>...</td>\n",
              "      <td>...</td>\n",
              "      <td>...</td>\n",
              "      <td>...</td>\n",
              "      <td>...</td>\n",
              "      <td>...</td>\n",
              "      <td>...</td>\n",
              "      <td>...</td>\n",
              "      <td>...</td>\n",
              "      <td>...</td>\n",
              "      <td>...</td>\n",
              "      <td>...</td>\n",
              "      <td>...</td>\n",
              "      <td>...</td>\n",
              "      <td>...</td>\n",
              "      <td>...</td>\n",
              "      <td>...</td>\n",
              "      <td>...</td>\n",
              "      <td>...</td>\n",
              "      <td>...</td>\n",
              "      <td>...</td>\n",
              "      <td>...</td>\n",
              "      <td>...</td>\n",
              "      <td>...</td>\n",
              "      <td>...</td>\n",
              "      <td>...</td>\n",
              "      <td>...</td>\n",
              "      <td>...</td>\n",
              "      <td>...</td>\n",
              "      <td>...</td>\n",
              "      <td>...</td>\n",
              "      <td>...</td>\n",
              "      <td>...</td>\n",
              "      <td>...</td>\n",
              "      <td>...</td>\n",
              "      <td>...</td>\n",
              "      <td>...</td>\n",
              "      <td>...</td>\n",
              "      <td>...</td>\n",
              "      <td>...</td>\n",
              "      <td>...</td>\n",
              "    </tr>\n",
              "    <tr>\n",
              "      <th>11495</th>\n",
              "      <td>X22.V1.114</td>\n",
              "      <td>-22</td>\n",
              "      <td>-22</td>\n",
              "      <td>-23</td>\n",
              "      <td>-26</td>\n",
              "      <td>-36</td>\n",
              "      <td>-42</td>\n",
              "      <td>-45</td>\n",
              "      <td>-42</td>\n",
              "      <td>-45</td>\n",
              "      <td>-49</td>\n",
              "      <td>-57</td>\n",
              "      <td>-64</td>\n",
              "      <td>-73</td>\n",
              "      <td>-79</td>\n",
              "      <td>-76</td>\n",
              "      <td>-70</td>\n",
              "      <td>-63</td>\n",
              "      <td>-57</td>\n",
              "      <td>-57</td>\n",
              "      <td>-50</td>\n",
              "      <td>-45</td>\n",
              "      <td>-34</td>\n",
              "      <td>-33</td>\n",
              "      <td>-32</td>\n",
              "      <td>-30</td>\n",
              "      <td>-24</td>\n",
              "      <td>-24</td>\n",
              "      <td>-18</td>\n",
              "      <td>-9</td>\n",
              "      <td>-2</td>\n",
              "      <td>0</td>\n",
              "      <td>2</td>\n",
              "      <td>-3</td>\n",
              "      <td>-5</td>\n",
              "      <td>-13</td>\n",
              "      <td>-23</td>\n",
              "      <td>-39</td>\n",
              "      <td>-53</td>\n",
              "      <td>-59</td>\n",
              "      <td>...</td>\n",
              "      <td>45</td>\n",
              "      <td>55</td>\n",
              "      <td>60</td>\n",
              "      <td>69</td>\n",
              "      <td>68</td>\n",
              "      <td>58</td>\n",
              "      <td>54</td>\n",
              "      <td>44</td>\n",
              "      <td>40</td>\n",
              "      <td>38</td>\n",
              "      <td>39</td>\n",
              "      <td>39</td>\n",
              "      <td>32</td>\n",
              "      <td>23</td>\n",
              "      <td>22</td>\n",
              "      <td>14</td>\n",
              "      <td>13</td>\n",
              "      <td>15</td>\n",
              "      <td>18</td>\n",
              "      <td>20</td>\n",
              "      <td>20</td>\n",
              "      <td>25</td>\n",
              "      <td>28</td>\n",
              "      <td>29</td>\n",
              "      <td>29</td>\n",
              "      <td>29</td>\n",
              "      <td>26</td>\n",
              "      <td>24</td>\n",
              "      <td>24</td>\n",
              "      <td>20</td>\n",
              "      <td>15</td>\n",
              "      <td>16</td>\n",
              "      <td>12</td>\n",
              "      <td>5</td>\n",
              "      <td>-1</td>\n",
              "      <td>-18</td>\n",
              "      <td>-37</td>\n",
              "      <td>-47</td>\n",
              "      <td>-48</td>\n",
              "      <td>0</td>\n",
              "    </tr>\n",
              "    <tr>\n",
              "      <th>11496</th>\n",
              "      <td>X19.V1.354</td>\n",
              "      <td>-47</td>\n",
              "      <td>-11</td>\n",
              "      <td>28</td>\n",
              "      <td>77</td>\n",
              "      <td>141</td>\n",
              "      <td>211</td>\n",
              "      <td>246</td>\n",
              "      <td>240</td>\n",
              "      <td>193</td>\n",
              "      <td>136</td>\n",
              "      <td>78</td>\n",
              "      <td>8</td>\n",
              "      <td>-66</td>\n",
              "      <td>-132</td>\n",
              "      <td>-180</td>\n",
              "      <td>-210</td>\n",
              "      <td>-227</td>\n",
              "      <td>-225</td>\n",
              "      <td>-212</td>\n",
              "      <td>-192</td>\n",
              "      <td>-168</td>\n",
              "      <td>-144</td>\n",
              "      <td>-117</td>\n",
              "      <td>-88</td>\n",
              "      <td>-54</td>\n",
              "      <td>-21</td>\n",
              "      <td>6</td>\n",
              "      <td>29</td>\n",
              "      <td>46</td>\n",
              "      <td>60</td>\n",
              "      <td>76</td>\n",
              "      <td>92</td>\n",
              "      <td>110</td>\n",
              "      <td>128</td>\n",
              "      <td>152</td>\n",
              "      <td>171</td>\n",
              "      <td>150</td>\n",
              "      <td>91</td>\n",
              "      <td>21</td>\n",
              "      <td>...</td>\n",
              "      <td>69</td>\n",
              "      <td>58</td>\n",
              "      <td>38</td>\n",
              "      <td>16</td>\n",
              "      <td>25</td>\n",
              "      <td>75</td>\n",
              "      <td>165</td>\n",
              "      <td>260</td>\n",
              "      <td>343</td>\n",
              "      <td>406</td>\n",
              "      <td>456</td>\n",
              "      <td>471</td>\n",
              "      <td>461</td>\n",
              "      <td>412</td>\n",
              "      <td>319</td>\n",
              "      <td>175</td>\n",
              "      <td>-5</td>\n",
              "      <td>-171</td>\n",
              "      <td>-293</td>\n",
              "      <td>-357</td>\n",
              "      <td>-378</td>\n",
              "      <td>-370</td>\n",
              "      <td>-346</td>\n",
              "      <td>-316</td>\n",
              "      <td>-278</td>\n",
              "      <td>-241</td>\n",
              "      <td>-201</td>\n",
              "      <td>-162</td>\n",
              "      <td>-126</td>\n",
              "      <td>-94</td>\n",
              "      <td>-65</td>\n",
              "      <td>-33</td>\n",
              "      <td>-7</td>\n",
              "      <td>14</td>\n",
              "      <td>27</td>\n",
              "      <td>48</td>\n",
              "      <td>77</td>\n",
              "      <td>117</td>\n",
              "      <td>170</td>\n",
              "      <td>1</td>\n",
              "    </tr>\n",
              "    <tr>\n",
              "      <th>11497</th>\n",
              "      <td>X8.V1.28</td>\n",
              "      <td>14</td>\n",
              "      <td>6</td>\n",
              "      <td>-13</td>\n",
              "      <td>-16</td>\n",
              "      <td>10</td>\n",
              "      <td>26</td>\n",
              "      <td>27</td>\n",
              "      <td>-9</td>\n",
              "      <td>4</td>\n",
              "      <td>14</td>\n",
              "      <td>-1</td>\n",
              "      <td>-10</td>\n",
              "      <td>14</td>\n",
              "      <td>44</td>\n",
              "      <td>77</td>\n",
              "      <td>61</td>\n",
              "      <td>42</td>\n",
              "      <td>32</td>\n",
              "      <td>29</td>\n",
              "      <td>22</td>\n",
              "      <td>26</td>\n",
              "      <td>35</td>\n",
              "      <td>81</td>\n",
              "      <td>66</td>\n",
              "      <td>50</td>\n",
              "      <td>57</td>\n",
              "      <td>91</td>\n",
              "      <td>121</td>\n",
              "      <td>111</td>\n",
              "      <td>73</td>\n",
              "      <td>38</td>\n",
              "      <td>23</td>\n",
              "      <td>35</td>\n",
              "      <td>21</td>\n",
              "      <td>11</td>\n",
              "      <td>-12</td>\n",
              "      <td>2</td>\n",
              "      <td>17</td>\n",
              "      <td>61</td>\n",
              "      <td>...</td>\n",
              "      <td>-90</td>\n",
              "      <td>-62</td>\n",
              "      <td>-38</td>\n",
              "      <td>-40</td>\n",
              "      <td>-21</td>\n",
              "      <td>-23</td>\n",
              "      <td>-11</td>\n",
              "      <td>-4</td>\n",
              "      <td>-9</td>\n",
              "      <td>-22</td>\n",
              "      <td>-42</td>\n",
              "      <td>-49</td>\n",
              "      <td>-48</td>\n",
              "      <td>-40</td>\n",
              "      <td>-40</td>\n",
              "      <td>-46</td>\n",
              "      <td>-43</td>\n",
              "      <td>-67</td>\n",
              "      <td>-67</td>\n",
              "      <td>-50</td>\n",
              "      <td>-18</td>\n",
              "      <td>-14</td>\n",
              "      <td>-39</td>\n",
              "      <td>-74</td>\n",
              "      <td>-86</td>\n",
              "      <td>-75</td>\n",
              "      <td>-68</td>\n",
              "      <td>-57</td>\n",
              "      <td>-78</td>\n",
              "      <td>-42</td>\n",
              "      <td>-65</td>\n",
              "      <td>-48</td>\n",
              "      <td>-61</td>\n",
              "      <td>-62</td>\n",
              "      <td>-67</td>\n",
              "      <td>-30</td>\n",
              "      <td>-2</td>\n",
              "      <td>-1</td>\n",
              "      <td>-8</td>\n",
              "      <td>0</td>\n",
              "    </tr>\n",
              "    <tr>\n",
              "      <th>11498</th>\n",
              "      <td>X10.V1.932</td>\n",
              "      <td>-40</td>\n",
              "      <td>-25</td>\n",
              "      <td>-9</td>\n",
              "      <td>-12</td>\n",
              "      <td>-2</td>\n",
              "      <td>12</td>\n",
              "      <td>7</td>\n",
              "      <td>19</td>\n",
              "      <td>22</td>\n",
              "      <td>29</td>\n",
              "      <td>22</td>\n",
              "      <td>6</td>\n",
              "      <td>1</td>\n",
              "      <td>-28</td>\n",
              "      <td>-37</td>\n",
              "      <td>-35</td>\n",
              "      <td>-35</td>\n",
              "      <td>-45</td>\n",
              "      <td>-64</td>\n",
              "      <td>-105</td>\n",
              "      <td>-140</td>\n",
              "      <td>-157</td>\n",
              "      <td>-157</td>\n",
              "      <td>-147</td>\n",
              "      <td>-153</td>\n",
              "      <td>-147</td>\n",
              "      <td>-126</td>\n",
              "      <td>-112</td>\n",
              "      <td>-83</td>\n",
              "      <td>-56</td>\n",
              "      <td>-41</td>\n",
              "      <td>-40</td>\n",
              "      <td>-38</td>\n",
              "      <td>-34</td>\n",
              "      <td>-47</td>\n",
              "      <td>-41</td>\n",
              "      <td>-40</td>\n",
              "      <td>-42</td>\n",
              "      <td>-49</td>\n",
              "      <td>...</td>\n",
              "      <td>-98</td>\n",
              "      <td>-77</td>\n",
              "      <td>-60</td>\n",
              "      <td>-73</td>\n",
              "      <td>-88</td>\n",
              "      <td>-97</td>\n",
              "      <td>-118</td>\n",
              "      <td>-108</td>\n",
              "      <td>-100</td>\n",
              "      <td>-97</td>\n",
              "      <td>-91</td>\n",
              "      <td>-109</td>\n",
              "      <td>-122</td>\n",
              "      <td>-134</td>\n",
              "      <td>-137</td>\n",
              "      <td>-107</td>\n",
              "      <td>-95</td>\n",
              "      <td>-67</td>\n",
              "      <td>-54</td>\n",
              "      <td>-40</td>\n",
              "      <td>-31</td>\n",
              "      <td>-19</td>\n",
              "      <td>7</td>\n",
              "      <td>22</td>\n",
              "      <td>46</td>\n",
              "      <td>68</td>\n",
              "      <td>87</td>\n",
              "      <td>97</td>\n",
              "      <td>105</td>\n",
              "      <td>114</td>\n",
              "      <td>121</td>\n",
              "      <td>135</td>\n",
              "      <td>148</td>\n",
              "      <td>143</td>\n",
              "      <td>116</td>\n",
              "      <td>86</td>\n",
              "      <td>68</td>\n",
              "      <td>59</td>\n",
              "      <td>55</td>\n",
              "      <td>0</td>\n",
              "    </tr>\n",
              "    <tr>\n",
              "      <th>11499</th>\n",
              "      <td>X16.V1.210</td>\n",
              "      <td>29</td>\n",
              "      <td>41</td>\n",
              "      <td>57</td>\n",
              "      <td>72</td>\n",
              "      <td>74</td>\n",
              "      <td>62</td>\n",
              "      <td>54</td>\n",
              "      <td>43</td>\n",
              "      <td>31</td>\n",
              "      <td>23</td>\n",
              "      <td>13</td>\n",
              "      <td>11</td>\n",
              "      <td>-3</td>\n",
              "      <td>-5</td>\n",
              "      <td>-9</td>\n",
              "      <td>-14</td>\n",
              "      <td>1</td>\n",
              "      <td>27</td>\n",
              "      <td>60</td>\n",
              "      <td>69</td>\n",
              "      <td>69</td>\n",
              "      <td>50</td>\n",
              "      <td>33</td>\n",
              "      <td>20</td>\n",
              "      <td>15</td>\n",
              "      <td>4</td>\n",
              "      <td>-5</td>\n",
              "      <td>-4</td>\n",
              "      <td>-8</td>\n",
              "      <td>-15</td>\n",
              "      <td>-13</td>\n",
              "      <td>-2</td>\n",
              "      <td>21</td>\n",
              "      <td>39</td>\n",
              "      <td>48</td>\n",
              "      <td>37</td>\n",
              "      <td>10</td>\n",
              "      <td>-23</td>\n",
              "      <td>-47</td>\n",
              "      <td>...</td>\n",
              "      <td>-108</td>\n",
              "      <td>-83</td>\n",
              "      <td>-46</td>\n",
              "      <td>0</td>\n",
              "      <td>30</td>\n",
              "      <td>39</td>\n",
              "      <td>44</td>\n",
              "      <td>33</td>\n",
              "      <td>22</td>\n",
              "      <td>8</td>\n",
              "      <td>-13</td>\n",
              "      <td>-33</td>\n",
              "      <td>-61</td>\n",
              "      <td>-70</td>\n",
              "      <td>-75</td>\n",
              "      <td>-74</td>\n",
              "      <td>-58</td>\n",
              "      <td>-18</td>\n",
              "      <td>19</td>\n",
              "      <td>54</td>\n",
              "      <td>71</td>\n",
              "      <td>76</td>\n",
              "      <td>74</td>\n",
              "      <td>65</td>\n",
              "      <td>56</td>\n",
              "      <td>18</td>\n",
              "      <td>-28</td>\n",
              "      <td>-75</td>\n",
              "      <td>-98</td>\n",
              "      <td>-94</td>\n",
              "      <td>-59</td>\n",
              "      <td>-25</td>\n",
              "      <td>-4</td>\n",
              "      <td>2</td>\n",
              "      <td>5</td>\n",
              "      <td>4</td>\n",
              "      <td>-2</td>\n",
              "      <td>2</td>\n",
              "      <td>20</td>\n",
              "      <td>0</td>\n",
              "    </tr>\n",
              "  </tbody>\n",
              "</table>\n",
              "<p>11500 rows × 180 columns</p>\n",
              "</div>"
            ],
            "text/plain": [
              "       Unnamed: 0   X1   X2   X3   X4   X5  ...  X174  X175  X176  X177  X178  label\n",
              "0      X21.V1.791  135  190  229  223  192  ...  -103  -127  -116   -83   -51      0\n",
              "1      X15.V1.924  386  382  356  331  320  ...   157   156   154   143   129      1\n",
              "2         X8.V1.1  -32  -39  -47  -37  -32  ...   -12   -30   -35   -35   -36      0\n",
              "3       X16.V1.60 -105 -101  -96  -92  -89  ...   -85   -77   -72   -69   -65      0\n",
              "4       X20.V1.54   -9  -65  -98 -102  -78  ...   -41   -65   -83   -89   -73      0\n",
              "...           ...  ...  ...  ...  ...  ...  ...   ...   ...   ...   ...   ...    ...\n",
              "11495  X22.V1.114  -22  -22  -23  -26  -36  ...    -1   -18   -37   -47   -48      0\n",
              "11496  X19.V1.354  -47  -11   28   77  141  ...    27    48    77   117   170      1\n",
              "11497    X8.V1.28   14    6  -13  -16   10  ...   -67   -30    -2    -1    -8      0\n",
              "11498  X10.V1.932  -40  -25   -9  -12   -2  ...   116    86    68    59    55      0\n",
              "11499  X16.V1.210   29   41   57   72   74  ...     5     4    -2     2    20      0\n",
              "\n",
              "[11500 rows x 180 columns]"
            ]
          },
          "metadata": {
            "tags": []
          },
          "execution_count": 2
        }
      ]
    },
    {
      "cell_type": "code",
      "metadata": {
        "colab": {
          "base_uri": "https://localhost:8080/"
        },
        "id": "TDXGnd-bC-m6",
        "outputId": "0a88c486-5a08-4660-e50d-f4e2582925b1"
      },
      "source": [
        "# Check for missing data - Steven\n",
        "data.isna().sum().sum()\n",
        "# No missing data, means we don't have to impute"
      ],
      "execution_count": 3,
      "outputs": [
        {
          "output_type": "execute_result",
          "data": {
            "text/plain": [
              "0"
            ]
          },
          "metadata": {
            "tags": []
          },
          "execution_count": 3
        }
      ]
    },
    {
      "cell_type": "code",
      "metadata": {
        "colab": {
          "base_uri": "https://localhost:8080/"
        },
        "id": "708tpZ_4DKeH",
        "outputId": "fcfe81ee-f498-4015-cddf-bd711364a200"
      },
      "source": [
        "# 11500 rows, 20% of patients have seizures using the mean - Steven\n",
        "data['label'].describe()"
      ],
      "execution_count": 4,
      "outputs": [
        {
          "output_type": "execute_result",
          "data": {
            "text/plain": [
              "count    11500.000000\n",
              "mean         0.200000\n",
              "std          0.400017\n",
              "min          0.000000\n",
              "25%          0.000000\n",
              "50%          0.000000\n",
              "75%          0.000000\n",
              "max          1.000000\n",
              "Name: label, dtype: float64"
            ]
          },
          "metadata": {
            "tags": []
          },
          "execution_count": 4
        }
      ]
    },
    {
      "cell_type": "markdown",
      "metadata": {
        "id": "pTuD22O9D0ko"
      },
      "source": [
        " 80% of patients did not have a seizure, so we might need to do something to balance it out, ex) drop 40% of the non-seizure data - Steven"
      ]
    },
    {
      "cell_type": "code",
      "metadata": {
        "id": "AuMUj1IIDxBt"
      },
      "source": [
        "# sorting the data by label and the first dropping 3680 rows non seizure rows, 40% of the non seizured patients - Edmundo\n",
        "data = data.sort_values(by = 'label').reset_index(drop = True)\n",
        "data = data.drop(data.index[:3680])"
      ],
      "execution_count": 5,
      "outputs": []
    },
    {
      "cell_type": "code",
      "metadata": {
        "colab": {
          "base_uri": "https://localhost:8080/"
        },
        "id": "_VSWX_kbDl3L",
        "outputId": "ae9ab461-4ac6-4fb4-b1e0-937fbd6ca6cf"
      },
      "source": [
        "data.label.value_counts() "
      ],
      "execution_count": 6,
      "outputs": [
        {
          "output_type": "execute_result",
          "data": {
            "text/plain": [
              "0    5520\n",
              "1    2300\n",
              "Name: label, dtype: int64"
            ]
          },
          "metadata": {
            "tags": []
          },
          "execution_count": 6
        }
      ]
    },
    {
      "cell_type": "code",
      "metadata": {
        "colab": {
          "base_uri": "https://localhost:8080/"
        },
        "id": "seNQVyxz0xn7",
        "outputId": "39f88c0f-26a2-403d-b65d-caebb8a2ce8d"
      },
      "source": [
        "data.shape"
      ],
      "execution_count": 7,
      "outputs": [
        {
          "output_type": "execute_result",
          "data": {
            "text/plain": [
              "(7820, 180)"
            ]
          },
          "metadata": {
            "tags": []
          },
          "execution_count": 7
        }
      ]
    },
    {
      "cell_type": "markdown",
      "metadata": {
        "id": "tqGuM_tEDN0u"
      },
      "source": [
        "### PCA Model"
      ]
    },
    {
      "cell_type": "code",
      "metadata": {
        "colab": {
          "base_uri": "https://localhost:8080/",
          "height": 267
        },
        "id": "DepNfjAzDM1y",
        "outputId": "14b7ca75-646d-4a8d-a428-693546158a11"
      },
      "source": [
        "%matplotlib inline\n",
        "\n",
        "# PCA \n",
        "from sklearn.decomposition import PCA\n",
        "\n",
        "# plots\n",
        "import matplotlib.pyplot as plt\n",
        "# drop first column and label\n",
        "X = data.drop(columns=[data.columns[0], 'label']).to_numpy()\n",
        "pca = PCA(n_components=2)\n",
        "# Reduced Data\n",
        "pca_data = pca.fit_transform(X).reshape(2, 7820)\n",
        "pca_x = pca_data[0]\n",
        "pca_y = pca_data[1]\n",
        "\n",
        "# set color of scatter points by label\n",
        "cdict = {0: 'red', 1: 'blue'}\n",
        "\n",
        "\n",
        "fig, ax = plt.subplots()\n",
        "for label in np.unique(data['label']):\n",
        "  # get indexes of the label\n",
        "    ix = data['label'] == label\n",
        "    if label == 0:\n",
        "      patients = 'No Seizure'\n",
        "    else:\n",
        "      patients = 'Had Seizure'\n",
        "    ax.scatter(pca_x[ix], pca_y[ix], c = cdict[label], label = patients, s = 20, alpha=.7)\n",
        "ax.legend()\n",
        "plt.show()\n",
        "\n",
        "# Plot shows how the PCA looks like for those with seizures vs those without - Steven"
      ],
      "execution_count": 8,
      "outputs": [
        {
          "output_type": "display_data",
          "data": {
            "image/png": "[encoded data removed]",
            "text/plain": [
              "<Figure size 432x288 with 1 Axes>"
            ]
          },
          "metadata": {
            "tags": [],
            "needs_background": "light"
          }
        }
      ]
    },
    {
      "cell_type": "code",
      "metadata": {
        "id": "V3W6XddbDZYP",
        "colab": {
          "base_uri": "https://localhost:8080/",
          "height": 282
        },
        "outputId": "6c116a00-75f0-47cb-936a-7d27ee5bc5a5"
      },
      "source": [
        "ax = sns.heatmap(X)\n",
        "# Might be able to show the correlation between each signal and the label, but it will probably be really hard to read. - Steven "
      ],
      "execution_count": 9,
      "outputs": [
        {
          "output_type": "display_data",
          "data": {
            "image/png": "[encoded data removed]",
            "text/plain": [
              "<Figure size 432x288 with 2 Axes>"
            ]
          },
          "metadata": {
            "tags": [],
            "needs_background": "light"
          }
        }
      ]
    },
    {
      "cell_type": "markdown",
      "metadata": {
        "id": "2bN8D9UgFM1K"
      },
      "source": [
        "###KNN Model\n",
        "\n"
      ]
    },
    {
      "cell_type": "code",
      "metadata": {
        "id": "7-E6KRc9EQn-"
      },
      "source": [
        "# Create X and y\n",
        "X = data.drop(columns=['Unnamed: 0', 'label'])\n",
        "y = data['label']\n",
        "\n",
        "# Standard scale X\n",
        "scaler = StandardScaler()\n",
        "X = scaler.fit_transform(X)\n",
        "\n",
        "# Create train, validation, and test sets: 60:20:20\n",
        "X_train, X_valid, y_train, y_valid = train_test_split(X, y, test_size=0.6, random_state=42)\n",
        "\n",
        "X_test, X_valid, y_test, y_valid = train_test_split(X, y, test_size=0.5, random_state=42)"
      ],
      "execution_count": 10,
      "outputs": []
    },
    {
      "cell_type": "code",
      "metadata": {
        "id": "U_v5sV3fFkbT"
      },
      "source": [
        "from sklearn.pipeline import Pipeline\n",
        "from sklearn.model_selection import train_test_split, GridSearchCV\n",
        "import warnings\n",
        "warnings.filterwarnings('ignore')\n",
        "from sklearn.neighbors import KNeighborsClassifier"
      ],
      "execution_count": 11,
      "outputs": []
    },
    {
      "cell_type": "code",
      "metadata": {
        "id": "jIcmXfjzGRsS",
        "colab": {
          "base_uri": "https://localhost:8080/"
        },
        "outputId": "39f29922-febb-4d7e-d38f-ead2b665fced"
      },
      "source": [
        "%%time\n",
        "# 5min 50s\n",
        "# KNN\n",
        "\n",
        "#setting params\n",
        "n_params = [1, 2, 3 ,4 ,5 ,6 ,7 ,8 ,9, 10, 20, 50, 70, 100, 150, 200, 250, 300]\n",
        "train_recalls = []\n",
        "valid_recalls = []\n",
        "\n",
        "\n",
        "train_accs = []\n",
        "valid_accs = []\n",
        "\n",
        "# Get scores for each parameter\n",
        "for n in n_params:\n",
        "  #print('n_param: ', n)\n",
        "  knn= Pipeline([('KNN', KNeighborsClassifier(n_neighbors = n))])\n",
        "  knn.fit(X_train, y_train)\n",
        "\n",
        "  y_train_preds = knn.predict(X_train)\n",
        "  y_valid_preds = knn.predict(X_valid)\n",
        "\n",
        "  knn_train_recall = recall_score(y_train,y_train_preds)\n",
        "  knn_train_acc = accuracy_score(y_train, y_train_preds)\n",
        "  train_recalls.append(knn_train_recall)\n",
        "  train_accs.append(knn_train_acc)\n",
        "\n",
        "\n",
        "  knn_valid_recall = recall_score(y_valid,y_valid_preds)\n",
        "  knn_valid_acc = accuracy_score(y_valid, y_valid_preds)\n",
        "  valid_recalls.append(knn_valid_recall)\n",
        "  valid_accs.append(knn_valid_acc)"
      ],
      "execution_count": 12,
      "outputs": [
        {
          "output_type": "stream",
          "text": [
            "CPU times: user 2min 31s, sys: 29.7 ms, total: 2min 31s\n",
            "Wall time: 2min 31s\n"
          ],
          "name": "stdout"
        }
      ]
    },
    {
      "cell_type": "code",
      "metadata": {
        "id": "ABEI4TWWGYET",
        "colab": {
          "base_uri": "https://localhost:8080/",
          "height": 415
        },
        "outputId": "8d80d01a-1d7f-4957-de80-61d42d176876"
      },
      "source": [
        "fig, ax = plt.subplots(figsize=(13,6))\n",
        "x = np.arange(5, 101, 5)\n",
        "ax = sns.lineplot(x=n_params, y=train_recalls)\n",
        "sns.lineplot(x=n_params, y=valid_recalls, ax=ax)\n",
        "ax.legend(labels=['Train', 'Validation'], bbox_to_anchor=(1, 1))\n",
        "ax.set_xlabel('# Neighbors')\n",
        "ax.set_ylabel('Recall')\n",
        "ax.set_xticks(np.arange(0,301, 15))\n",
        "ax.set_title('N_Neighbors vs Recall', c='g', fontdict={'c':'blue', 'fontsize':20})\n",
        "\n",
        "plt.show()"
      ],
      "execution_count": 13,
      "outputs": [
        {
          "output_type": "display_data",
          "data": {
            "image/png": "[encoded data removed]",
            "text/plain": [
              "<Figure size 936x432 with 1 Axes>"
            ]
          },
          "metadata": {
            "tags": [],
            "needs_background": "light"
          }
        }
      ]
    },
    {
      "cell_type": "code",
      "metadata": {
        "id": "4nqTlxgPGc2c",
        "colab": {
          "base_uri": "https://localhost:8080/",
          "height": 415
        },
        "outputId": "11d9d683-dd88-4588-977d-60f41bf579cb"
      },
      "source": [
        "fig, ax = plt.subplots(figsize=(13,6))\n",
        "x = np.arange(5, 101, 5)\n",
        "ax = sns.lineplot(x=n_params, y=train_accs)\n",
        "sns.lineplot(x=n_params, y=valid_accs, ax=ax)\n",
        "ax.legend(labels=['Train', 'Validation'], bbox_to_anchor=(1, 1))\n",
        "ax.set_xlabel('# Neighbors')\n",
        "ax.set_ylabel('Accuracy')\n",
        "ax.set_xticks(np.arange(0,301, 15))\n",
        "ax.set_title('N_Neighbors vs Accuracy', c='g', fontdict={'c':'blue', 'fontsize':20})\n",
        "\n",
        "plt.show()"
      ],
      "execution_count": 14,
      "outputs": [
        {
          "output_type": "display_data",
          "data": {
            "image/png": "[encoded data removed]",
            "text/plain": [
              "<Figure size 936x432 with 1 Axes>"
            ]
          },
          "metadata": {
            "tags": [],
            "needs_background": "light"
          }
        }
      ]
    },
    {
      "cell_type": "markdown",
      "metadata": {
        "id": "gizMINfYG4lA"
      },
      "source": [
        "###Logistic Regression"
      ]
    },
    {
      "cell_type": "code",
      "metadata": {
        "id": "ItLU1Oz4Gf_m",
        "colab": {
          "base_uri": "https://localhost:8080/"
        },
        "outputId": "e8a70639-fdcb-49ff-b395-d76a6fbe1f42"
      },
      "source": [
        "%%time \n",
        "from sklearn.linear_model import LogisticRegression\n",
        "\n",
        "# Logistic Regression\n",
        "train_recalls = []\n",
        "valid_recalls = []\n",
        "train_accs = []\n",
        "valid_accs = []\n",
        "\n",
        "C_params = np.arange(0.05, 1.05, .05)\n",
        "\n",
        "for c in C_params:\n",
        "  lr = LogisticRegression(random_state = 69, C = c)\n",
        "  pipe = Pipeline([('lr', lr)])\n",
        "\n",
        "  lr.fit(X_train, y_train)\n",
        "\n",
        "  y_train_preds = lr.predict(X_train)\n",
        "  y_valid_preds = lr.predict(X_valid)\n",
        "\n",
        "  lr_train_recall= recall_score(y_train,y_train_preds)\n",
        "  lr_valid_recall= recall_score(y_valid,y_valid_preds)\n",
        "\n",
        "  lr_train_acc = accuracy_score(y_train, y_train_preds)\n",
        "  lr_valid_acc = accuracy_score(y_valid, y_valid_preds)\n",
        "\n",
        "  train_recalls.append(lr_train_recall)\n",
        "  valid_recalls.append(lr_valid_recall)\n",
        "\n",
        "  train_accs.append(lr_train_acc)\n",
        "  valid_accs.append(lr_valid_acc)"
      ],
      "execution_count": 15,
      "outputs": [
        {
          "output_type": "stream",
          "text": [
            "CPU times: user 3.6 s, sys: 1.77 s, total: 5.38 s\n",
            "Wall time: 2.77 s\n"
          ],
          "name": "stdout"
        }
      ]
    },
    {
      "cell_type": "code",
      "metadata": {
        "id": "3lcn1owSG-Rb",
        "colab": {
          "base_uri": "https://localhost:8080/",
          "height": 415
        },
        "outputId": "848654dc-454a-4580-a08c-dcce4acac1d9"
      },
      "source": [
        "fig, ax = plt.subplots(figsize=(13,6))\n",
        "ax = sns.lineplot(x=C_params, y=train_recalls)\n",
        "sns.lineplot(x=C_params, y=valid_recalls, ax=ax)\n",
        "ax.legend(labels=['Train', 'Validation'], bbox_to_anchor=(1, 1))\n",
        "ax.set_xlabel('C')\n",
        "ax.set_ylabel('Recall')\n",
        "ax.set_xticks(np.arange(0, 1.1, .1))\n",
        "ax.set_title('C vs Recall', c='g', fontdict={'c':'blue', 'fontsize':20})\n",
        "\n",
        "plt.show()"
      ],
      "execution_count": 16,
      "outputs": [
        {
          "output_type": "display_data",
          "data": {
            "image/png": "[encoded data removed]",
            "text/plain": [
              "<Figure size 936x432 with 1 Axes>"
            ]
          },
          "metadata": {
            "tags": [],
            "needs_background": "light"
          }
        }
      ]
    },
    {
      "cell_type": "code",
      "metadata": {
        "id": "hd-9JtOIHA-k",
        "colab": {
          "base_uri": "https://localhost:8080/",
          "height": 415
        },
        "outputId": "bfa10a44-4608-49ef-e55a-35c9cb1247d3"
      },
      "source": [
        "fig, ax = plt.subplots(figsize=(13,6))\n",
        "ax = sns.lineplot(x=C_params, y=train_accs)\n",
        "sns.lineplot(x=C_params, y=valid_accs, ax=ax)\n",
        "ax.legend(labels=['Train', 'Validation'], bbox_to_anchor=(1, 1))\n",
        "ax.set_xlabel('C')\n",
        "ax.set_ylabel('Accuracy')\n",
        "ax.set_xticks(np.arange(0, 1.1, .1))\n",
        "ax.set_title('C vs Accuracy', c='g', fontdict={'c':'blue', 'fontsize':20})\n",
        "\n",
        "plt.show()"
      ],
      "execution_count": 17,
      "outputs": [
        {
          "output_type": "display_data",
          "data": {
            "image/png": "[encoded data removed]",
            "text/plain": [
              "<Figure size 936x432 with 1 Axes>"
            ]
          },
          "metadata": {
            "tags": [],
            "needs_background": "light"
          }
        }
      ]
    },
    {
      "cell_type": "markdown",
      "metadata": {
        "id": "ZZrnH9R6JhE6"
      },
      "source": [
        "### Stochastic Gradient Descent"
      ]
    },
    {
      "cell_type": "code",
      "metadata": {
        "id": "N8abhL_O88-L"
      },
      "source": [
        "from sklearn.linear_model import SGDClassifier\n",
        "\n",
        "train_recalls = []\n",
        "valid_recalls = []\n",
        "train_accs = []\n",
        "valid_accs = []\n",
        "\n",
        "alpha_params = [.000001, .00001, .0001, .001, .01]\n",
        "\n",
        "for a in alpha_params:\n",
        "  SGDC = SGDClassifier(loss = 'log',alpha = a)\n",
        "  SGDC.fit(X_train, y_train)\n",
        "\n",
        "  y_train_preds = SGDC.predict(X_train)\n",
        "  y_valid_preds = SGDC.predict(X_valid)\n",
        "\n",
        "  SGDC_train_recall= recall_score(y_train,y_train_preds)\n",
        "  SGDC_valid_recall= recall_score(y_valid,y_valid_preds)\n",
        "\n",
        "  SGDC_train_acc = accuracy_score(y_train, y_train_preds)\n",
        "  SGDC_valid_acc = accuracy_score(y_valid, y_valid_preds)\n",
        "\n",
        "  train_recalls.append(SGDC_train_recall)\n",
        "  valid_recalls.append(SGDC_valid_recall)\n",
        "\n",
        "  train_accs.append(SGDC_train_acc)\n",
        "  valid_accs.append(SGDC_valid_acc)"
      ],
      "execution_count": 18,
      "outputs": []
    },
    {
      "cell_type": "code",
      "metadata": {
        "id": "kNVaXC_W0mBP",
        "colab": {
          "base_uri": "https://localhost:8080/",
          "height": 415
        },
        "outputId": "69791b2e-a1a8-42d7-8e06-825dfc216d0d"
      },
      "source": [
        "fig, ax = plt.subplots(figsize=(13,6))\r\n",
        "ax = sns.lineplot(x=alpha_params, y=train_recalls)\r\n",
        "sns.lineplot(x=alpha_params, y=valid_recalls, ax=ax)\r\n",
        "ax.legend(labels=['Train', 'Validation'], bbox_to_anchor=(1, 1))\r\n",
        "ax.set_xlabel('Alpha')\r\n",
        "ax.set_ylabel('Recall')\r\n",
        "#ax.set_xticks(np.arange(0, 1.1, .1))\r\n",
        "ax.set_title('Alpha vs Recall', c='g', fontdict={'c':'blue', 'fontsize':20})\r\n",
        "\r\n",
        "plt.show()"
      ],
      "execution_count": 19,
      "outputs": [
        {
          "output_type": "display_data",
          "data": {
            "image/png": "[encoded data removed]",
            "text/plain": [
              "<Figure size 936x432 with 1 Axes>"
            ]
          },
          "metadata": {
            "tags": [],
            "needs_background": "light"
          }
        }
      ]
    },
    {
      "cell_type": "code",
      "metadata": {
        "id": "rwleMM000mKZ",
        "colab": {
          "base_uri": "https://localhost:8080/",
          "height": 415
        },
        "outputId": "dc4971bd-0204-4432-a94c-5d9188227a0a"
      },
      "source": [
        "fig, ax = plt.subplots(figsize=(13,6))\r\n",
        "ax = sns.lineplot(x=alpha_params, y=train_accs)\r\n",
        "sns.lineplot(x=alpha_params, y=valid_accs, ax=ax)\r\n",
        "ax.legend(labels=['Train', 'Validation'], bbox_to_anchor=(1, 1))\r\n",
        "ax.set_xlabel('Alpha')\r\n",
        "ax.set_ylabel('Accuracy')\r\n",
        "#ax.set_xticks(np.arange(0, 1.1, .1))\r\n",
        "ax.set_title('Alpha vs Accuracy', c='g', fontdict={'c':'blue', 'fontsize':20})\r\n",
        "\r\n",
        "plt.show()"
      ],
      "execution_count": 20,
      "outputs": [
        {
          "output_type": "display_data",
          "data": {
            "image/png": "[encoded data removed]",
            "text/plain": [
              "<Figure size 936x432 with 1 Axes>"
            ]
          },
          "metadata": {
            "tags": [],
            "needs_background": "light"
          }
        }
      ]
    },
    {
      "cell_type": "markdown",
      "metadata": {
        "id": "1CUozTfHJoDZ"
      },
      "source": [
        "### Gaussian Naive-Bayes"
      ]
    },
    {
      "cell_type": "code",
      "metadata": {
        "id": "DjkuS8Qq-SlN"
      },
      "source": [
        "from sklearn.naive_bayes import GaussianNB\n",
        "\n",
        "train_recalls = []\n",
        "valid_recalls = []\n",
        "train_accs = []\n",
        "valid_accs = []\n",
        "\n",
        "var_params = [1e-7, 1e-8, 1e-9, 1e-10, 1e-11]\n",
        "\n",
        "for var in var_params:\n",
        "  nb = GaussianNB(var_smoothing=var)\n",
        "  nb.fit(X_train, y_train)\n",
        "\n",
        "  y_train_preds = nb.predict(X_train)\n",
        "  y_valid_preds = nb.predict(X_valid)\n",
        "\n",
        "  nb_train_recall= recall_score(y_train,y_train_preds)\n",
        "  nb_valid_recall= recall_score(y_valid,y_valid_preds)\n",
        "\n",
        "  nb_train_acc = accuracy_score(y_train, y_train_preds)\n",
        "  nb_valid_acc = accuracy_score(y_valid, y_valid_preds)\n",
        "\n",
        "  train_recalls.append(nb_train_recall)\n",
        "  valid_recalls.append(nb_valid_recall)\n",
        "\n",
        "  train_accs.append(nb_train_acc)\n",
        "  valid_accs.append(nb_valid_acc)"
      ],
      "execution_count": 21,
      "outputs": []
    },
    {
      "cell_type": "code",
      "metadata": {
        "id": "pXuDovdf2YyH",
        "colab": {
          "base_uri": "https://localhost:8080/",
          "height": 415
        },
        "outputId": "33dcc7b0-3e16-4200-fdb7-f56b5f5a737c"
      },
      "source": [
        "fig, ax = plt.subplots(figsize=(13,6))\r\n",
        "ax = sns.lineplot(x=var_params, y=train_recalls)\r\n",
        "sns.lineplot(x=var_params, y=valid_recalls, ax=ax)\r\n",
        "ax.legend(labels=['Train', 'Validation'], bbox_to_anchor=(1, 1))\r\n",
        "ax.set_xlabel('Alpha')\r\n",
        "ax.set_ylabel('Recall')\r\n",
        "#ax.set_xticks(np.arange(0, 1.1, .1))\r\n",
        "ax.set_title('Variance Smoothing vs Recall', c='g', fontdict={'c':'blue', 'fontsize':20})\r\n",
        "\r\n",
        "plt.show()"
      ],
      "execution_count": 22,
      "outputs": [
        {
          "output_type": "display_data",
          "data": {
            "image/png": "[encoded data removed]",
            "text/plain": [
              "<Figure size 936x432 with 1 Axes>"
            ]
          },
          "metadata": {
            "tags": [],
            "needs_background": "light"
          }
        }
      ]
    },
    {
      "cell_type": "code",
      "metadata": {
        "id": "dxK4yGWW2q9o",
        "colab": {
          "base_uri": "https://localhost:8080/",
          "height": 415
        },
        "outputId": "3b454ee3-b023-42cb-c9d0-5850d643ebf7"
      },
      "source": [
        "fig, ax = plt.subplots(figsize=(13,6))\r\n",
        "ax = sns.lineplot(x=var_params, y=train_accs)\r\n",
        "sns.lineplot(x=var_params, y=valid_accs, ax=ax)\r\n",
        "ax.legend(labels=['Train', 'Validation'], bbox_to_anchor=(1, 1))\r\n",
        "ax.set_xlabel('Alpha')\r\n",
        "ax.set_ylabel('Accuracy')\r\n",
        "#ax.set_xticks(np.arange(0, 1.1, .1))\r\n",
        "ax.set_title('Variance Smoothing vs Accuracy', c='g', fontdict={'c':'blue', 'fontsize':20})\r\n",
        "\r\n",
        "plt.show()"
      ],
      "execution_count": 23,
      "outputs": [
        {
          "output_type": "display_data",
          "data": {
            "image/png": "[encoded data removed]",
            "text/plain": [
              "<Figure size 936x432 with 1 Axes>"
            ]
          },
          "metadata": {
            "tags": [],
            "needs_background": "light"
          }
        }
      ]
    },
    {
      "cell_type": "markdown",
      "metadata": {
        "id": "pvUcUf4pJtlp"
      },
      "source": [
        "### Random Forest"
      ]
    },
    {
      "cell_type": "code",
      "metadata": {
        "id": "edk3XeqB_NBn"
      },
      "source": [
        "from sklearn.ensemble import RandomForestClassifier\n",
        "\n",
        "train_recalls = []\n",
        "valid_recalls = []\n",
        "train_accs = []\n",
        "valid_accs = []\n",
        "\n",
        "depth_params = [2, 3, 5, 7, 8, 10]\n",
        "\n",
        "for depth in depth_params:\n",
        "  rf = RandomForestClassifier(max_depth = depth, random_state = 69)\n",
        "  rf.fit(X_train, y_train)\n",
        "\n",
        "  y_train_preds = rf.predict(X_train)\n",
        "  y_valid_preds = rf.predict(X_valid)\n",
        "\n",
        "  rf_train_recall= recall_score(y_train,y_train_preds)\n",
        "  rf_valid_recall= recall_score(y_valid,y_valid_preds)\n",
        "\n",
        "  rf_train_acc = accuracy_score(y_train, y_train_preds)\n",
        "  rf_valid_acc = accuracy_score(y_valid, y_valid_preds)\n",
        "\n",
        "  train_recalls.append(rf_train_recall)\n",
        "  valid_recalls.append(rf_valid_recall)\n",
        "\n",
        "  train_accs.append(rf_train_acc)\n",
        "  valid_accs.append(rf_valid_acc)"
      ],
      "execution_count": 24,
      "outputs": []
    },
    {
      "cell_type": "code",
      "metadata": {
        "id": "dlfwtXhiDTIm",
        "colab": {
          "base_uri": "https://localhost:8080/",
          "height": 415
        },
        "outputId": "8b2cf808-e911-4f4b-dbc7-764823f6c05f"
      },
      "source": [
        "fig, ax = plt.subplots(figsize=(13,6))\n",
        "ax = sns.lineplot(x=depth_params, y=train_recalls)\n",
        "sns.lineplot(x=depth_params, y=valid_recalls, ax=ax)\n",
        "ax.legend(labels=['Train', 'Validation'], bbox_to_anchor=(1, 1))\n",
        "ax.set_xlabel('Alpha')\n",
        "ax.set_ylabel('Recall')\n",
        "#ax.set_xticks(np.arange(0, 1.1, .1))\n",
        "ax.set_title('Max-Depth vs Recall', c='g', fontdict={'c':'blue', 'fontsize':20})\n",
        "\n",
        "plt.show()"
      ],
      "execution_count": 25,
      "outputs": [
        {
          "output_type": "display_data",
          "data": {
            "image/png": "[encoded data removed]",
            "text/plain": [
              "<Figure size 936x432 with 1 Axes>"
            ]
          },
          "metadata": {
            "tags": [],
            "needs_background": "light"
          }
        }
      ]
    },
    {
      "cell_type": "code",
      "metadata": {
        "id": "2PtrK3Gc30cG",
        "colab": {
          "base_uri": "https://localhost:8080/",
          "height": 415
        },
        "outputId": "5e484370-d625-4cc0-decd-c4ab0558d525"
      },
      "source": [
        "fig, ax = plt.subplots(figsize=(13,6))\r\n",
        "ax = sns.lineplot(x=depth_params, y=train_accs)\r\n",
        "sns.lineplot(x=depth_params, y=valid_accs, ax=ax)\r\n",
        "ax.legend(labels=['Train', 'Validation'], bbox_to_anchor=(1, 1))\r\n",
        "ax.set_xlabel('Alpha')\r\n",
        "ax.set_ylabel('Accuracy')\r\n",
        "#ax.set_xticks(np.arange(0, 1.1, .1))\r\n",
        "ax.set_title('Max-Depth vs Accuracy', c='g', fontdict={'c':'blue', 'fontsize':20})\r\n",
        "\r\n",
        "plt.show()"
      ],
      "execution_count": 26,
      "outputs": [
        {
          "output_type": "display_data",
          "data": {
            "image/png": "[encoded data removed]",
            "text/plain": [
              "<Figure size 936x432 with 1 Axes>"
            ]
          },
          "metadata": {
            "tags": [],
            "needs_background": "light"
          }
        }
      ]
    },
    {
      "cell_type": "markdown",
      "metadata": {
        "id": "Xf2zHKClxrqf"
      },
      "source": [
        "### ANN"
      ]
    },
    {
      "cell_type": "code",
      "metadata": {
        "id": "shVR76_kxvse"
      },
      "source": [
        "labels = data['label']\n",
        "features = data.drop(columns=['label'])"
      ],
      "execution_count": 27,
      "outputs": []
    },
    {
      "cell_type": "code",
      "metadata": {
        "id": "S9B1_fTexvsf",
        "colab": {
          "base_uri": "https://localhost:8080/"
        },
        "outputId": "9b3686cd-4063-4619-dd33-dfbbc0649a10"
      },
      "source": [
        "labels[0:5]"
      ],
      "execution_count": 28,
      "outputs": [
        {
          "output_type": "execute_result",
          "data": {
            "text/plain": [
              "3680    0\n",
              "3681    0\n",
              "3682    0\n",
              "3683    0\n",
              "3684    0\n",
              "Name: label, dtype: int64"
            ]
          },
          "metadata": {
            "tags": []
          },
          "execution_count": 28
        }
      ]
    },
    {
      "cell_type": "code",
      "metadata": {
        "id": "o5RTzs4Vxvsh",
        "colab": {
          "base_uri": "https://localhost:8080/",
          "height": 255
        },
        "outputId": "535fad6b-5afb-43f5-cf1e-3edef5e80835"
      },
      "source": [
        "features[0:5]"
      ],
      "execution_count": 29,
      "outputs": [
        {
          "output_type": "execute_result",
          "data": {
            "text/html": [
              "<div>\n",
              "<style scoped>\n",
              "    .dataframe tbody tr th:only-of-type {\n",
              "        vertical-align: middle;\n",
              "    }\n",
              "\n",
              "    .dataframe tbody tr th {\n",
              "        vertical-align: top;\n",
              "    }\n",
              "\n",
              "    .dataframe thead th {\n",
              "        text-align: right;\n",
              "    }\n",
              "</style>\n",
              "<table border=\"1\" class=\"dataframe\">\n",
              "  <thead>\n",
              "    <tr style=\"text-align: right;\">\n",
              "      <th></th>\n",
              "      <th>Unnamed: 0</th>\n",
              "      <th>X1</th>\n",
              "      <th>X2</th>\n",
              "      <th>X3</th>\n",
              "      <th>X4</th>\n",
              "      <th>X5</th>\n",
              "      <th>X6</th>\n",
              "      <th>X7</th>\n",
              "      <th>X8</th>\n",
              "      <th>X9</th>\n",
              "      <th>X10</th>\n",
              "      <th>X11</th>\n",
              "      <th>X12</th>\n",
              "      <th>X13</th>\n",
              "      <th>X14</th>\n",
              "      <th>X15</th>\n",
              "      <th>X16</th>\n",
              "      <th>X17</th>\n",
              "      <th>X18</th>\n",
              "      <th>X19</th>\n",
              "      <th>X20</th>\n",
              "      <th>X21</th>\n",
              "      <th>X22</th>\n",
              "      <th>X23</th>\n",
              "      <th>X24</th>\n",
              "      <th>X25</th>\n",
              "      <th>X26</th>\n",
              "      <th>X27</th>\n",
              "      <th>X28</th>\n",
              "      <th>X29</th>\n",
              "      <th>X30</th>\n",
              "      <th>X31</th>\n",
              "      <th>X32</th>\n",
              "      <th>X33</th>\n",
              "      <th>X34</th>\n",
              "      <th>X35</th>\n",
              "      <th>X36</th>\n",
              "      <th>X37</th>\n",
              "      <th>X38</th>\n",
              "      <th>X39</th>\n",
              "      <th>...</th>\n",
              "      <th>X139</th>\n",
              "      <th>X140</th>\n",
              "      <th>X141</th>\n",
              "      <th>X142</th>\n",
              "      <th>X143</th>\n",
              "      <th>X144</th>\n",
              "      <th>X145</th>\n",
              "      <th>X146</th>\n",
              "      <th>X147</th>\n",
              "      <th>X148</th>\n",
              "      <th>X149</th>\n",
              "      <th>X150</th>\n",
              "      <th>X151</th>\n",
              "      <th>X152</th>\n",
              "      <th>X153</th>\n",
              "      <th>X154</th>\n",
              "      <th>X155</th>\n",
              "      <th>X156</th>\n",
              "      <th>X157</th>\n",
              "      <th>X158</th>\n",
              "      <th>X159</th>\n",
              "      <th>X160</th>\n",
              "      <th>X161</th>\n",
              "      <th>X162</th>\n",
              "      <th>X163</th>\n",
              "      <th>X164</th>\n",
              "      <th>X165</th>\n",
              "      <th>X166</th>\n",
              "      <th>X167</th>\n",
              "      <th>X168</th>\n",
              "      <th>X169</th>\n",
              "      <th>X170</th>\n",
              "      <th>X171</th>\n",
              "      <th>X172</th>\n",
              "      <th>X173</th>\n",
              "      <th>X174</th>\n",
              "      <th>X175</th>\n",
              "      <th>X176</th>\n",
              "      <th>X177</th>\n",
              "      <th>X178</th>\n",
              "    </tr>\n",
              "  </thead>\n",
              "  <tbody>\n",
              "    <tr>\n",
              "      <th>3680</th>\n",
              "      <td>X6.V1.80</td>\n",
              "      <td>17</td>\n",
              "      <td>29</td>\n",
              "      <td>46</td>\n",
              "      <td>51</td>\n",
              "      <td>40</td>\n",
              "      <td>26</td>\n",
              "      <td>21</td>\n",
              "      <td>48</td>\n",
              "      <td>62</td>\n",
              "      <td>51</td>\n",
              "      <td>37</td>\n",
              "      <td>27</td>\n",
              "      <td>31</td>\n",
              "      <td>38</td>\n",
              "      <td>59</td>\n",
              "      <td>61</td>\n",
              "      <td>34</td>\n",
              "      <td>-3</td>\n",
              "      <td>-36</td>\n",
              "      <td>-51</td>\n",
              "      <td>-51</td>\n",
              "      <td>-41</td>\n",
              "      <td>-44</td>\n",
              "      <td>-60</td>\n",
              "      <td>-71</td>\n",
              "      <td>-55</td>\n",
              "      <td>-38</td>\n",
              "      <td>-17</td>\n",
              "      <td>-1</td>\n",
              "      <td>13</td>\n",
              "      <td>18</td>\n",
              "      <td>17</td>\n",
              "      <td>2</td>\n",
              "      <td>-14</td>\n",
              "      <td>-25</td>\n",
              "      <td>-15</td>\n",
              "      <td>-3</td>\n",
              "      <td>-3</td>\n",
              "      <td>-18</td>\n",
              "      <td>...</td>\n",
              "      <td>-35</td>\n",
              "      <td>-52</td>\n",
              "      <td>-62</td>\n",
              "      <td>-72</td>\n",
              "      <td>-66</td>\n",
              "      <td>-48</td>\n",
              "      <td>-48</td>\n",
              "      <td>-56</td>\n",
              "      <td>-61</td>\n",
              "      <td>-51</td>\n",
              "      <td>-28</td>\n",
              "      <td>-3</td>\n",
              "      <td>10</td>\n",
              "      <td>7</td>\n",
              "      <td>-1</td>\n",
              "      <td>-22</td>\n",
              "      <td>-47</td>\n",
              "      <td>-79</td>\n",
              "      <td>-93</td>\n",
              "      <td>-90</td>\n",
              "      <td>-98</td>\n",
              "      <td>-76</td>\n",
              "      <td>-42</td>\n",
              "      <td>1</td>\n",
              "      <td>14</td>\n",
              "      <td>21</td>\n",
              "      <td>20</td>\n",
              "      <td>32</td>\n",
              "      <td>46</td>\n",
              "      <td>60</td>\n",
              "      <td>56</td>\n",
              "      <td>46</td>\n",
              "      <td>24</td>\n",
              "      <td>14</td>\n",
              "      <td>-4</td>\n",
              "      <td>-20</td>\n",
              "      <td>-44</td>\n",
              "      <td>-63</td>\n",
              "      <td>-74</td>\n",
              "      <td>-63</td>\n",
              "    </tr>\n",
              "    <tr>\n",
              "      <th>3681</th>\n",
              "      <td>X2.V1.8</td>\n",
              "      <td>9</td>\n",
              "      <td>4</td>\n",
              "      <td>-4</td>\n",
              "      <td>-6</td>\n",
              "      <td>-7</td>\n",
              "      <td>-9</td>\n",
              "      <td>-14</td>\n",
              "      <td>0</td>\n",
              "      <td>10</td>\n",
              "      <td>4</td>\n",
              "      <td>-12</td>\n",
              "      <td>-30</td>\n",
              "      <td>-44</td>\n",
              "      <td>-37</td>\n",
              "      <td>-26</td>\n",
              "      <td>-16</td>\n",
              "      <td>-14</td>\n",
              "      <td>5</td>\n",
              "      <td>6</td>\n",
              "      <td>-2</td>\n",
              "      <td>-12</td>\n",
              "      <td>-25</td>\n",
              "      <td>-23</td>\n",
              "      <td>-27</td>\n",
              "      <td>-22</td>\n",
              "      <td>-24</td>\n",
              "      <td>-21</td>\n",
              "      <td>-14</td>\n",
              "      <td>-8</td>\n",
              "      <td>-14</td>\n",
              "      <td>-27</td>\n",
              "      <td>-34</td>\n",
              "      <td>-32</td>\n",
              "      <td>-23</td>\n",
              "      <td>-6</td>\n",
              "      <td>16</td>\n",
              "      <td>27</td>\n",
              "      <td>31</td>\n",
              "      <td>34</td>\n",
              "      <td>...</td>\n",
              "      <td>22</td>\n",
              "      <td>43</td>\n",
              "      <td>59</td>\n",
              "      <td>50</td>\n",
              "      <td>28</td>\n",
              "      <td>1</td>\n",
              "      <td>-18</td>\n",
              "      <td>-24</td>\n",
              "      <td>-16</td>\n",
              "      <td>-21</td>\n",
              "      <td>-33</td>\n",
              "      <td>-32</td>\n",
              "      <td>-26</td>\n",
              "      <td>-5</td>\n",
              "      <td>10</td>\n",
              "      <td>27</td>\n",
              "      <td>24</td>\n",
              "      <td>23</td>\n",
              "      <td>25</td>\n",
              "      <td>16</td>\n",
              "      <td>13</td>\n",
              "      <td>14</td>\n",
              "      <td>28</td>\n",
              "      <td>28</td>\n",
              "      <td>26</td>\n",
              "      <td>18</td>\n",
              "      <td>17</td>\n",
              "      <td>15</td>\n",
              "      <td>6</td>\n",
              "      <td>4</td>\n",
              "      <td>0</td>\n",
              "      <td>10</td>\n",
              "      <td>16</td>\n",
              "      <td>6</td>\n",
              "      <td>1</td>\n",
              "      <td>7</td>\n",
              "      <td>24</td>\n",
              "      <td>16</td>\n",
              "      <td>3</td>\n",
              "      <td>-1</td>\n",
              "    </tr>\n",
              "    <tr>\n",
              "      <th>3682</th>\n",
              "      <td>X18.V1.3</td>\n",
              "      <td>2</td>\n",
              "      <td>-2</td>\n",
              "      <td>-15</td>\n",
              "      <td>-10</td>\n",
              "      <td>12</td>\n",
              "      <td>59</td>\n",
              "      <td>42</td>\n",
              "      <td>44</td>\n",
              "      <td>18</td>\n",
              "      <td>6</td>\n",
              "      <td>24</td>\n",
              "      <td>40</td>\n",
              "      <td>49</td>\n",
              "      <td>36</td>\n",
              "      <td>31</td>\n",
              "      <td>12</td>\n",
              "      <td>30</td>\n",
              "      <td>-11</td>\n",
              "      <td>-24</td>\n",
              "      <td>-40</td>\n",
              "      <td>-31</td>\n",
              "      <td>-28</td>\n",
              "      <td>-30</td>\n",
              "      <td>-57</td>\n",
              "      <td>-83</td>\n",
              "      <td>-111</td>\n",
              "      <td>-103</td>\n",
              "      <td>-71</td>\n",
              "      <td>-26</td>\n",
              "      <td>2</td>\n",
              "      <td>2</td>\n",
              "      <td>-26</td>\n",
              "      <td>-3</td>\n",
              "      <td>38</td>\n",
              "      <td>17</td>\n",
              "      <td>10</td>\n",
              "      <td>-29</td>\n",
              "      <td>-25</td>\n",
              "      <td>-13</td>\n",
              "      <td>...</td>\n",
              "      <td>20</td>\n",
              "      <td>-6</td>\n",
              "      <td>-25</td>\n",
              "      <td>-41</td>\n",
              "      <td>-47</td>\n",
              "      <td>-35</td>\n",
              "      <td>-27</td>\n",
              "      <td>-25</td>\n",
              "      <td>-2</td>\n",
              "      <td>29</td>\n",
              "      <td>54</td>\n",
              "      <td>55</td>\n",
              "      <td>57</td>\n",
              "      <td>62</td>\n",
              "      <td>56</td>\n",
              "      <td>36</td>\n",
              "      <td>-4</td>\n",
              "      <td>-32</td>\n",
              "      <td>-27</td>\n",
              "      <td>-19</td>\n",
              "      <td>6</td>\n",
              "      <td>5</td>\n",
              "      <td>12</td>\n",
              "      <td>26</td>\n",
              "      <td>20</td>\n",
              "      <td>39</td>\n",
              "      <td>33</td>\n",
              "      <td>35</td>\n",
              "      <td>-21</td>\n",
              "      <td>-51</td>\n",
              "      <td>-42</td>\n",
              "      <td>-48</td>\n",
              "      <td>-46</td>\n",
              "      <td>-61</td>\n",
              "      <td>-50</td>\n",
              "      <td>-27</td>\n",
              "      <td>23</td>\n",
              "      <td>64</td>\n",
              "      <td>98</td>\n",
              "      <td>100</td>\n",
              "    </tr>\n",
              "    <tr>\n",
              "      <th>3683</th>\n",
              "      <td>X7.V1.715</td>\n",
              "      <td>-39</td>\n",
              "      <td>-35</td>\n",
              "      <td>-22</td>\n",
              "      <td>-20</td>\n",
              "      <td>-21</td>\n",
              "      <td>-24</td>\n",
              "      <td>-21</td>\n",
              "      <td>-20</td>\n",
              "      <td>-22</td>\n",
              "      <td>-24</td>\n",
              "      <td>-23</td>\n",
              "      <td>-25</td>\n",
              "      <td>-33</td>\n",
              "      <td>-28</td>\n",
              "      <td>-29</td>\n",
              "      <td>-22</td>\n",
              "      <td>-25</td>\n",
              "      <td>-27</td>\n",
              "      <td>-32</td>\n",
              "      <td>-35</td>\n",
              "      <td>-39</td>\n",
              "      <td>-45</td>\n",
              "      <td>-47</td>\n",
              "      <td>-52</td>\n",
              "      <td>-45</td>\n",
              "      <td>-46</td>\n",
              "      <td>-42</td>\n",
              "      <td>-37</td>\n",
              "      <td>-36</td>\n",
              "      <td>-33</td>\n",
              "      <td>-32</td>\n",
              "      <td>-23</td>\n",
              "      <td>-27</td>\n",
              "      <td>-29</td>\n",
              "      <td>-34</td>\n",
              "      <td>-37</td>\n",
              "      <td>-37</td>\n",
              "      <td>-42</td>\n",
              "      <td>-41</td>\n",
              "      <td>...</td>\n",
              "      <td>37</td>\n",
              "      <td>37</td>\n",
              "      <td>31</td>\n",
              "      <td>26</td>\n",
              "      <td>22</td>\n",
              "      <td>19</td>\n",
              "      <td>8</td>\n",
              "      <td>-5</td>\n",
              "      <td>-17</td>\n",
              "      <td>-21</td>\n",
              "      <td>-15</td>\n",
              "      <td>-9</td>\n",
              "      <td>-9</td>\n",
              "      <td>-13</td>\n",
              "      <td>-9</td>\n",
              "      <td>-2</td>\n",
              "      <td>6</td>\n",
              "      <td>7</td>\n",
              "      <td>4</td>\n",
              "      <td>-1</td>\n",
              "      <td>0</td>\n",
              "      <td>7</td>\n",
              "      <td>20</td>\n",
              "      <td>23</td>\n",
              "      <td>18</td>\n",
              "      <td>9</td>\n",
              "      <td>-14</td>\n",
              "      <td>-29</td>\n",
              "      <td>-32</td>\n",
              "      <td>-34</td>\n",
              "      <td>-31</td>\n",
              "      <td>-31</td>\n",
              "      <td>-15</td>\n",
              "      <td>-3</td>\n",
              "      <td>3</td>\n",
              "      <td>4</td>\n",
              "      <td>-2</td>\n",
              "      <td>-7</td>\n",
              "      <td>-4</td>\n",
              "      <td>-1</td>\n",
              "    </tr>\n",
              "    <tr>\n",
              "      <th>3684</th>\n",
              "      <td>X11.V1.451</td>\n",
              "      <td>-15</td>\n",
              "      <td>-15</td>\n",
              "      <td>-9</td>\n",
              "      <td>-8</td>\n",
              "      <td>-7</td>\n",
              "      <td>-5</td>\n",
              "      <td>-3</td>\n",
              "      <td>4</td>\n",
              "      <td>15</td>\n",
              "      <td>25</td>\n",
              "      <td>28</td>\n",
              "      <td>30</td>\n",
              "      <td>27</td>\n",
              "      <td>21</td>\n",
              "      <td>19</td>\n",
              "      <td>11</td>\n",
              "      <td>4</td>\n",
              "      <td>-13</td>\n",
              "      <td>-13</td>\n",
              "      <td>-20</td>\n",
              "      <td>-23</td>\n",
              "      <td>-25</td>\n",
              "      <td>-17</td>\n",
              "      <td>-10</td>\n",
              "      <td>-12</td>\n",
              "      <td>-6</td>\n",
              "      <td>-8</td>\n",
              "      <td>1</td>\n",
              "      <td>2</td>\n",
              "      <td>4</td>\n",
              "      <td>0</td>\n",
              "      <td>6</td>\n",
              "      <td>25</td>\n",
              "      <td>35</td>\n",
              "      <td>23</td>\n",
              "      <td>3</td>\n",
              "      <td>-9</td>\n",
              "      <td>-13</td>\n",
              "      <td>-13</td>\n",
              "      <td>...</td>\n",
              "      <td>51</td>\n",
              "      <td>35</td>\n",
              "      <td>11</td>\n",
              "      <td>-11</td>\n",
              "      <td>-30</td>\n",
              "      <td>-25</td>\n",
              "      <td>0</td>\n",
              "      <td>41</td>\n",
              "      <td>81</td>\n",
              "      <td>111</td>\n",
              "      <td>122</td>\n",
              "      <td>109</td>\n",
              "      <td>103</td>\n",
              "      <td>97</td>\n",
              "      <td>93</td>\n",
              "      <td>90</td>\n",
              "      <td>74</td>\n",
              "      <td>37</td>\n",
              "      <td>-24</td>\n",
              "      <td>-79</td>\n",
              "      <td>-125</td>\n",
              "      <td>-147</td>\n",
              "      <td>-145</td>\n",
              "      <td>-121</td>\n",
              "      <td>-78</td>\n",
              "      <td>-25</td>\n",
              "      <td>42</td>\n",
              "      <td>92</td>\n",
              "      <td>121</td>\n",
              "      <td>143</td>\n",
              "      <td>166</td>\n",
              "      <td>182</td>\n",
              "      <td>177</td>\n",
              "      <td>146</td>\n",
              "      <td>73</td>\n",
              "      <td>-15</td>\n",
              "      <td>-95</td>\n",
              "      <td>-141</td>\n",
              "      <td>-165</td>\n",
              "      <td>-167</td>\n",
              "    </tr>\n",
              "  </tbody>\n",
              "</table>\n",
              "<p>5 rows × 179 columns</p>\n",
              "</div>"
            ],
            "text/plain": [
              "      Unnamed: 0  X1  X2  X3  X4  X5  ...  X173  X174  X175  X176  X177  X178\n",
              "3680    X6.V1.80  17  29  46  51  40  ...    -4   -20   -44   -63   -74   -63\n",
              "3681     X2.V1.8   9   4  -4  -6  -7  ...     1     7    24    16     3    -1\n",
              "3682    X18.V1.3   2  -2 -15 -10  12  ...   -50   -27    23    64    98   100\n",
              "3683   X7.V1.715 -39 -35 -22 -20 -21  ...     3     4    -2    -7    -4    -1\n",
              "3684  X11.V1.451 -15 -15  -9  -8  -7  ...    73   -15   -95  -141  -165  -167\n",
              "\n",
              "[5 rows x 179 columns]"
            ]
          },
          "metadata": {
            "tags": []
          },
          "execution_count": 29
        }
      ]
    },
    {
      "cell_type": "code",
      "metadata": {
        "id": "smRkfDM-xvsh",
        "colab": {
          "base_uri": "https://localhost:8080/"
        },
        "outputId": "fae5fb9c-5078-4893-c12d-a6a362fd8f30"
      },
      "source": [
        "features.shape"
      ],
      "execution_count": 30,
      "outputs": [
        {
          "output_type": "execute_result",
          "data": {
            "text/plain": [
              "(7820, 179)"
            ]
          },
          "metadata": {
            "tags": []
          },
          "execution_count": 30
        }
      ]
    },
    {
      "cell_type": "code",
      "metadata": {
        "id": "GRXYPG5xxvsi",
        "colab": {
          "base_uri": "https://localhost:8080/",
          "height": 255
        },
        "outputId": "f6445e9d-ca70-467b-b18b-194d55896c87"
      },
      "source": [
        "features = pd.get_dummies(features)\n",
        "features[0:5]"
      ],
      "execution_count": 31,
      "outputs": [
        {
          "output_type": "execute_result",
          "data": {
            "text/html": [
              "<div>\n",
              "<style scoped>\n",
              "    .dataframe tbody tr th:only-of-type {\n",
              "        vertical-align: middle;\n",
              "    }\n",
              "\n",
              "    .dataframe tbody tr th {\n",
              "        vertical-align: top;\n",
              "    }\n",
              "\n",
              "    .dataframe thead th {\n",
              "        text-align: right;\n",
              "    }\n",
              "</style>\n",
              "<table border=\"1\" class=\"dataframe\">\n",
              "  <thead>\n",
              "    <tr style=\"text-align: right;\">\n",
              "      <th></th>\n",
              "      <th>X1</th>\n",
              "      <th>X2</th>\n",
              "      <th>X3</th>\n",
              "      <th>X4</th>\n",
              "      <th>X5</th>\n",
              "      <th>X6</th>\n",
              "      <th>X7</th>\n",
              "      <th>X8</th>\n",
              "      <th>X9</th>\n",
              "      <th>X10</th>\n",
              "      <th>X11</th>\n",
              "      <th>X12</th>\n",
              "      <th>X13</th>\n",
              "      <th>X14</th>\n",
              "      <th>X15</th>\n",
              "      <th>X16</th>\n",
              "      <th>X17</th>\n",
              "      <th>X18</th>\n",
              "      <th>X19</th>\n",
              "      <th>X20</th>\n",
              "      <th>X21</th>\n",
              "      <th>X22</th>\n",
              "      <th>X23</th>\n",
              "      <th>X24</th>\n",
              "      <th>X25</th>\n",
              "      <th>X26</th>\n",
              "      <th>X27</th>\n",
              "      <th>X28</th>\n",
              "      <th>X29</th>\n",
              "      <th>X30</th>\n",
              "      <th>X31</th>\n",
              "      <th>X32</th>\n",
              "      <th>X33</th>\n",
              "      <th>X34</th>\n",
              "      <th>X35</th>\n",
              "      <th>X36</th>\n",
              "      <th>X37</th>\n",
              "      <th>X38</th>\n",
              "      <th>X39</th>\n",
              "      <th>X40</th>\n",
              "      <th>...</th>\n",
              "      <th>Unnamed: 0_X9.V1.882</th>\n",
              "      <th>Unnamed: 0_X9.V1.884</th>\n",
              "      <th>Unnamed: 0_X9.V1.89</th>\n",
              "      <th>Unnamed: 0_X9.V1.892</th>\n",
              "      <th>Unnamed: 0_X9.V1.894</th>\n",
              "      <th>Unnamed: 0_X9.V1.9</th>\n",
              "      <th>Unnamed: 0_X9.V1.90</th>\n",
              "      <th>Unnamed: 0_X9.V1.901</th>\n",
              "      <th>Unnamed: 0_X9.V1.904</th>\n",
              "      <th>Unnamed: 0_X9.V1.911</th>\n",
              "      <th>Unnamed: 0_X9.V1.912</th>\n",
              "      <th>Unnamed: 0_X9.V1.915</th>\n",
              "      <th>Unnamed: 0_X9.V1.916</th>\n",
              "      <th>Unnamed: 0_X9.V1.917</th>\n",
              "      <th>Unnamed: 0_X9.V1.92</th>\n",
              "      <th>Unnamed: 0_X9.V1.922</th>\n",
              "      <th>Unnamed: 0_X9.V1.924</th>\n",
              "      <th>Unnamed: 0_X9.V1.934</th>\n",
              "      <th>Unnamed: 0_X9.V1.942</th>\n",
              "      <th>Unnamed: 0_X9.V1.943</th>\n",
              "      <th>Unnamed: 0_X9.V1.944</th>\n",
              "      <th>Unnamed: 0_X9.V1.951</th>\n",
              "      <th>Unnamed: 0_X9.V1.953</th>\n",
              "      <th>Unnamed: 0_X9.V1.954</th>\n",
              "      <th>Unnamed: 0_X9.V1.96</th>\n",
              "      <th>Unnamed: 0_X9.V1.961</th>\n",
              "      <th>Unnamed: 0_X9.V1.962</th>\n",
              "      <th>Unnamed: 0_X9.V1.964</th>\n",
              "      <th>Unnamed: 0_X9.V1.97</th>\n",
              "      <th>Unnamed: 0_X9.V1.972</th>\n",
              "      <th>Unnamed: 0_X9.V1.974</th>\n",
              "      <th>Unnamed: 0_X9.V1.98</th>\n",
              "      <th>Unnamed: 0_X9.V1.983</th>\n",
              "      <th>Unnamed: 0_X9.V1.984</th>\n",
              "      <th>Unnamed: 0_X9.V1.99</th>\n",
              "      <th>Unnamed: 0_X9.V1.991</th>\n",
              "      <th>Unnamed: 0_X9.V1.994</th>\n",
              "      <th>Unnamed: 0_X9.V11</th>\n",
              "      <th>Unnamed: 0_X9.V12</th>\n",
              "      <th>Unnamed: 0_X9.V14</th>\n",
              "    </tr>\n",
              "  </thead>\n",
              "  <tbody>\n",
              "    <tr>\n",
              "      <th>3680</th>\n",
              "      <td>17</td>\n",
              "      <td>29</td>\n",
              "      <td>46</td>\n",
              "      <td>51</td>\n",
              "      <td>40</td>\n",
              "      <td>26</td>\n",
              "      <td>21</td>\n",
              "      <td>48</td>\n",
              "      <td>62</td>\n",
              "      <td>51</td>\n",
              "      <td>37</td>\n",
              "      <td>27</td>\n",
              "      <td>31</td>\n",
              "      <td>38</td>\n",
              "      <td>59</td>\n",
              "      <td>61</td>\n",
              "      <td>34</td>\n",
              "      <td>-3</td>\n",
              "      <td>-36</td>\n",
              "      <td>-51</td>\n",
              "      <td>-51</td>\n",
              "      <td>-41</td>\n",
              "      <td>-44</td>\n",
              "      <td>-60</td>\n",
              "      <td>-71</td>\n",
              "      <td>-55</td>\n",
              "      <td>-38</td>\n",
              "      <td>-17</td>\n",
              "      <td>-1</td>\n",
              "      <td>13</td>\n",
              "      <td>18</td>\n",
              "      <td>17</td>\n",
              "      <td>2</td>\n",
              "      <td>-14</td>\n",
              "      <td>-25</td>\n",
              "      <td>-15</td>\n",
              "      <td>-3</td>\n",
              "      <td>-3</td>\n",
              "      <td>-18</td>\n",
              "      <td>-19</td>\n",
              "      <td>...</td>\n",
              "      <td>0</td>\n",
              "      <td>0</td>\n",
              "      <td>0</td>\n",
              "      <td>0</td>\n",
              "      <td>0</td>\n",
              "      <td>0</td>\n",
              "      <td>0</td>\n",
              "      <td>0</td>\n",
              "      <td>0</td>\n",
              "      <td>0</td>\n",
              "      <td>0</td>\n",
              "      <td>0</td>\n",
              "      <td>0</td>\n",
              "      <td>0</td>\n",
              "      <td>0</td>\n",
              "      <td>0</td>\n",
              "      <td>0</td>\n",
              "      <td>0</td>\n",
              "      <td>0</td>\n",
              "      <td>0</td>\n",
              "      <td>0</td>\n",
              "      <td>0</td>\n",
              "      <td>0</td>\n",
              "      <td>0</td>\n",
              "      <td>0</td>\n",
              "      <td>0</td>\n",
              "      <td>0</td>\n",
              "      <td>0</td>\n",
              "      <td>0</td>\n",
              "      <td>0</td>\n",
              "      <td>0</td>\n",
              "      <td>0</td>\n",
              "      <td>0</td>\n",
              "      <td>0</td>\n",
              "      <td>0</td>\n",
              "      <td>0</td>\n",
              "      <td>0</td>\n",
              "      <td>0</td>\n",
              "      <td>0</td>\n",
              "      <td>0</td>\n",
              "    </tr>\n",
              "    <tr>\n",
              "      <th>3681</th>\n",
              "      <td>9</td>\n",
              "      <td>4</td>\n",
              "      <td>-4</td>\n",
              "      <td>-6</td>\n",
              "      <td>-7</td>\n",
              "      <td>-9</td>\n",
              "      <td>-14</td>\n",
              "      <td>0</td>\n",
              "      <td>10</td>\n",
              "      <td>4</td>\n",
              "      <td>-12</td>\n",
              "      <td>-30</td>\n",
              "      <td>-44</td>\n",
              "      <td>-37</td>\n",
              "      <td>-26</td>\n",
              "      <td>-16</td>\n",
              "      <td>-14</td>\n",
              "      <td>5</td>\n",
              "      <td>6</td>\n",
              "      <td>-2</td>\n",
              "      <td>-12</td>\n",
              "      <td>-25</td>\n",
              "      <td>-23</td>\n",
              "      <td>-27</td>\n",
              "      <td>-22</td>\n",
              "      <td>-24</td>\n",
              "      <td>-21</td>\n",
              "      <td>-14</td>\n",
              "      <td>-8</td>\n",
              "      <td>-14</td>\n",
              "      <td>-27</td>\n",
              "      <td>-34</td>\n",
              "      <td>-32</td>\n",
              "      <td>-23</td>\n",
              "      <td>-6</td>\n",
              "      <td>16</td>\n",
              "      <td>27</td>\n",
              "      <td>31</td>\n",
              "      <td>34</td>\n",
              "      <td>27</td>\n",
              "      <td>...</td>\n",
              "      <td>0</td>\n",
              "      <td>0</td>\n",
              "      <td>0</td>\n",
              "      <td>0</td>\n",
              "      <td>0</td>\n",
              "      <td>0</td>\n",
              "      <td>0</td>\n",
              "      <td>0</td>\n",
              "      <td>0</td>\n",
              "      <td>0</td>\n",
              "      <td>0</td>\n",
              "      <td>0</td>\n",
              "      <td>0</td>\n",
              "      <td>0</td>\n",
              "      <td>0</td>\n",
              "      <td>0</td>\n",
              "      <td>0</td>\n",
              "      <td>0</td>\n",
              "      <td>0</td>\n",
              "      <td>0</td>\n",
              "      <td>0</td>\n",
              "      <td>0</td>\n",
              "      <td>0</td>\n",
              "      <td>0</td>\n",
              "      <td>0</td>\n",
              "      <td>0</td>\n",
              "      <td>0</td>\n",
              "      <td>0</td>\n",
              "      <td>0</td>\n",
              "      <td>0</td>\n",
              "      <td>0</td>\n",
              "      <td>0</td>\n",
              "      <td>0</td>\n",
              "      <td>0</td>\n",
              "      <td>0</td>\n",
              "      <td>0</td>\n",
              "      <td>0</td>\n",
              "      <td>0</td>\n",
              "      <td>0</td>\n",
              "      <td>0</td>\n",
              "    </tr>\n",
              "    <tr>\n",
              "      <th>3682</th>\n",
              "      <td>2</td>\n",
              "      <td>-2</td>\n",
              "      <td>-15</td>\n",
              "      <td>-10</td>\n",
              "      <td>12</td>\n",
              "      <td>59</td>\n",
              "      <td>42</td>\n",
              "      <td>44</td>\n",
              "      <td>18</td>\n",
              "      <td>6</td>\n",
              "      <td>24</td>\n",
              "      <td>40</td>\n",
              "      <td>49</td>\n",
              "      <td>36</td>\n",
              "      <td>31</td>\n",
              "      <td>12</td>\n",
              "      <td>30</td>\n",
              "      <td>-11</td>\n",
              "      <td>-24</td>\n",
              "      <td>-40</td>\n",
              "      <td>-31</td>\n",
              "      <td>-28</td>\n",
              "      <td>-30</td>\n",
              "      <td>-57</td>\n",
              "      <td>-83</td>\n",
              "      <td>-111</td>\n",
              "      <td>-103</td>\n",
              "      <td>-71</td>\n",
              "      <td>-26</td>\n",
              "      <td>2</td>\n",
              "      <td>2</td>\n",
              "      <td>-26</td>\n",
              "      <td>-3</td>\n",
              "      <td>38</td>\n",
              "      <td>17</td>\n",
              "      <td>10</td>\n",
              "      <td>-29</td>\n",
              "      <td>-25</td>\n",
              "      <td>-13</td>\n",
              "      <td>7</td>\n",
              "      <td>...</td>\n",
              "      <td>0</td>\n",
              "      <td>0</td>\n",
              "      <td>0</td>\n",
              "      <td>0</td>\n",
              "      <td>0</td>\n",
              "      <td>0</td>\n",
              "      <td>0</td>\n",
              "      <td>0</td>\n",
              "      <td>0</td>\n",
              "      <td>0</td>\n",
              "      <td>0</td>\n",
              "      <td>0</td>\n",
              "      <td>0</td>\n",
              "      <td>0</td>\n",
              "      <td>0</td>\n",
              "      <td>0</td>\n",
              "      <td>0</td>\n",
              "      <td>0</td>\n",
              "      <td>0</td>\n",
              "      <td>0</td>\n",
              "      <td>0</td>\n",
              "      <td>0</td>\n",
              "      <td>0</td>\n",
              "      <td>0</td>\n",
              "      <td>0</td>\n",
              "      <td>0</td>\n",
              "      <td>0</td>\n",
              "      <td>0</td>\n",
              "      <td>0</td>\n",
              "      <td>0</td>\n",
              "      <td>0</td>\n",
              "      <td>0</td>\n",
              "      <td>0</td>\n",
              "      <td>0</td>\n",
              "      <td>0</td>\n",
              "      <td>0</td>\n",
              "      <td>0</td>\n",
              "      <td>0</td>\n",
              "      <td>0</td>\n",
              "      <td>0</td>\n",
              "    </tr>\n",
              "    <tr>\n",
              "      <th>3683</th>\n",
              "      <td>-39</td>\n",
              "      <td>-35</td>\n",
              "      <td>-22</td>\n",
              "      <td>-20</td>\n",
              "      <td>-21</td>\n",
              "      <td>-24</td>\n",
              "      <td>-21</td>\n",
              "      <td>-20</td>\n",
              "      <td>-22</td>\n",
              "      <td>-24</td>\n",
              "      <td>-23</td>\n",
              "      <td>-25</td>\n",
              "      <td>-33</td>\n",
              "      <td>-28</td>\n",
              "      <td>-29</td>\n",
              "      <td>-22</td>\n",
              "      <td>-25</td>\n",
              "      <td>-27</td>\n",
              "      <td>-32</td>\n",
              "      <td>-35</td>\n",
              "      <td>-39</td>\n",
              "      <td>-45</td>\n",
              "      <td>-47</td>\n",
              "      <td>-52</td>\n",
              "      <td>-45</td>\n",
              "      <td>-46</td>\n",
              "      <td>-42</td>\n",
              "      <td>-37</td>\n",
              "      <td>-36</td>\n",
              "      <td>-33</td>\n",
              "      <td>-32</td>\n",
              "      <td>-23</td>\n",
              "      <td>-27</td>\n",
              "      <td>-29</td>\n",
              "      <td>-34</td>\n",
              "      <td>-37</td>\n",
              "      <td>-37</td>\n",
              "      <td>-42</td>\n",
              "      <td>-41</td>\n",
              "      <td>-48</td>\n",
              "      <td>...</td>\n",
              "      <td>0</td>\n",
              "      <td>0</td>\n",
              "      <td>0</td>\n",
              "      <td>0</td>\n",
              "      <td>0</td>\n",
              "      <td>0</td>\n",
              "      <td>0</td>\n",
              "      <td>0</td>\n",
              "      <td>0</td>\n",
              "      <td>0</td>\n",
              "      <td>0</td>\n",
              "      <td>0</td>\n",
              "      <td>0</td>\n",
              "      <td>0</td>\n",
              "      <td>0</td>\n",
              "      <td>0</td>\n",
              "      <td>0</td>\n",
              "      <td>0</td>\n",
              "      <td>0</td>\n",
              "      <td>0</td>\n",
              "      <td>0</td>\n",
              "      <td>0</td>\n",
              "      <td>0</td>\n",
              "      <td>0</td>\n",
              "      <td>0</td>\n",
              "      <td>0</td>\n",
              "      <td>0</td>\n",
              "      <td>0</td>\n",
              "      <td>0</td>\n",
              "      <td>0</td>\n",
              "      <td>0</td>\n",
              "      <td>0</td>\n",
              "      <td>0</td>\n",
              "      <td>0</td>\n",
              "      <td>0</td>\n",
              "      <td>0</td>\n",
              "      <td>0</td>\n",
              "      <td>0</td>\n",
              "      <td>0</td>\n",
              "      <td>0</td>\n",
              "    </tr>\n",
              "    <tr>\n",
              "      <th>3684</th>\n",
              "      <td>-15</td>\n",
              "      <td>-15</td>\n",
              "      <td>-9</td>\n",
              "      <td>-8</td>\n",
              "      <td>-7</td>\n",
              "      <td>-5</td>\n",
              "      <td>-3</td>\n",
              "      <td>4</td>\n",
              "      <td>15</td>\n",
              "      <td>25</td>\n",
              "      <td>28</td>\n",
              "      <td>30</td>\n",
              "      <td>27</td>\n",
              "      <td>21</td>\n",
              "      <td>19</td>\n",
              "      <td>11</td>\n",
              "      <td>4</td>\n",
              "      <td>-13</td>\n",
              "      <td>-13</td>\n",
              "      <td>-20</td>\n",
              "      <td>-23</td>\n",
              "      <td>-25</td>\n",
              "      <td>-17</td>\n",
              "      <td>-10</td>\n",
              "      <td>-12</td>\n",
              "      <td>-6</td>\n",
              "      <td>-8</td>\n",
              "      <td>1</td>\n",
              "      <td>2</td>\n",
              "      <td>4</td>\n",
              "      <td>0</td>\n",
              "      <td>6</td>\n",
              "      <td>25</td>\n",
              "      <td>35</td>\n",
              "      <td>23</td>\n",
              "      <td>3</td>\n",
              "      <td>-9</td>\n",
              "      <td>-13</td>\n",
              "      <td>-13</td>\n",
              "      <td>-8</td>\n",
              "      <td>...</td>\n",
              "      <td>0</td>\n",
              "      <td>0</td>\n",
              "      <td>0</td>\n",
              "      <td>0</td>\n",
              "      <td>0</td>\n",
              "      <td>0</td>\n",
              "      <td>0</td>\n",
              "      <td>0</td>\n",
              "      <td>0</td>\n",
              "      <td>0</td>\n",
              "      <td>0</td>\n",
              "      <td>0</td>\n",
              "      <td>0</td>\n",
              "      <td>0</td>\n",
              "      <td>0</td>\n",
              "      <td>0</td>\n",
              "      <td>0</td>\n",
              "      <td>0</td>\n",
              "      <td>0</td>\n",
              "      <td>0</td>\n",
              "      <td>0</td>\n",
              "      <td>0</td>\n",
              "      <td>0</td>\n",
              "      <td>0</td>\n",
              "      <td>0</td>\n",
              "      <td>0</td>\n",
              "      <td>0</td>\n",
              "      <td>0</td>\n",
              "      <td>0</td>\n",
              "      <td>0</td>\n",
              "      <td>0</td>\n",
              "      <td>0</td>\n",
              "      <td>0</td>\n",
              "      <td>0</td>\n",
              "      <td>0</td>\n",
              "      <td>0</td>\n",
              "      <td>0</td>\n",
              "      <td>0</td>\n",
              "      <td>0</td>\n",
              "      <td>0</td>\n",
              "    </tr>\n",
              "  </tbody>\n",
              "</table>\n",
              "<p>5 rows × 7998 columns</p>\n",
              "</div>"
            ],
            "text/plain": [
              "      X1  X2  X3  ...  Unnamed: 0_X9.V11  Unnamed: 0_X9.V12  Unnamed: 0_X9.V14\n",
              "3680  17  29  46  ...                  0                  0                  0\n",
              "3681   9   4  -4  ...                  0                  0                  0\n",
              "3682   2  -2 -15  ...                  0                  0                  0\n",
              "3683 -39 -35 -22  ...                  0                  0                  0\n",
              "3684 -15 -15  -9  ...                  0                  0                  0\n",
              "\n",
              "[5 rows x 7998 columns]"
            ]
          },
          "metadata": {
            "tags": []
          },
          "execution_count": 31
        }
      ]
    },
    {
      "cell_type": "code",
      "metadata": {
        "id": "jQpW3_P5xvsi"
      },
      "source": [
        "features = features.values.astype('float32')\n",
        "labels = labels.values.astype('float32')"
      ],
      "execution_count": 32,
      "outputs": []
    },
    {
      "cell_type": "code",
      "metadata": {
        "id": "5QKFgN0oyRPg",
        "colab": {
          "base_uri": "https://localhost:8080/"
        },
        "outputId": "1cb8f770-fff0-4166-ffe3-2d0d89f0c67e"
      },
      "source": [
        "print(features)\n",
        "features[0].shape"
      ],
      "execution_count": 33,
      "outputs": [
        {
          "output_type": "stream",
          "text": [
            "[[  17.   29.   46. ...    0.    0.    0.]\n",
            " [   9.    4.   -4. ...    0.    0.    0.]\n",
            " [   2.   -2.  -15. ...    0.    0.    0.]\n",
            " ...\n",
            " [  73.   73.   73. ...    0.    0.    0.]\n",
            " [ -78.  -93.  -51. ...    0.    0.    0.]\n",
            " [-624. -596. -554. ...    0.    0.    0.]]\n"
          ],
          "name": "stdout"
        },
        {
          "output_type": "execute_result",
          "data": {
            "text/plain": [
              "(7998,)"
            ]
          },
          "metadata": {
            "tags": []
          },
          "execution_count": 33
        }
      ]
    },
    {
      "cell_type": "code",
      "metadata": {
        "id": "jgd8TolXyRPh"
      },
      "source": [
        "features_train,features_test, labels_train, labels_test = train_test_split(features, labels, test_size = 0.2)\n",
        "features_train, features_validation, labels_train, labels_validation = train_test_split(features_train, labels_train, test_size = 0.2)\n",
        "model = keras.Sequential([keras.layers.Dense(32, input_shape=(7998,)),\n",
        "                          keras.layers.Dense(20, activation=tf.nn.relu),\n",
        "                         keras.layers.Dense(2,activation='softmax')])\n",
        "model.compile(optimizer='adam',\n",
        "             loss='sparse_categorical_crossentropy',\n",
        "             metrics=['acc'])\n"
      ],
      "execution_count": 34,
      "outputs": []
    },
    {
      "cell_type": "code",
      "metadata": {
        "id": "7Sm9JSDhyRPh",
        "colab": {
          "base_uri": "https://localhost:8080/"
        },
        "outputId": "1ac2ea0c-5225-4549-9aad-9357c0aeb0dc"
      },
      "source": [
        "history1 = model.fit(features_train, labels_train, epochs=20, validation_data=(features_validation, labels_validation))\n",
        "prediction_features = model.predict(features_test)\n",
        "accuracy = model.evaluate(features_test, labels_test)\n"
      ],
      "execution_count": 35,
      "outputs": [
        {
          "output_type": "stream",
          "text": [
            "Epoch 1/20\n",
            "157/157 [==============================] - 1s 7ms/step - loss: 9.5015 - acc: 0.6469 - val_loss: 4.2220 - val_acc: 0.6605\n",
            "Epoch 2/20\n",
            "157/157 [==============================] - 1s 4ms/step - loss: 2.8478 - acc: 0.7330 - val_loss: 2.4010 - val_acc: 0.7005\n",
            "Epoch 3/20\n",
            "157/157 [==============================] - 1s 4ms/step - loss: 1.6984 - acc: 0.7752 - val_loss: 1.9110 - val_acc: 0.7580\n",
            "Epoch 4/20\n",
            "157/157 [==============================] - 1s 4ms/step - loss: 1.0962 - acc: 0.8169 - val_loss: 1.3493 - val_acc: 0.7700\n",
            "Epoch 5/20\n",
            "157/157 [==============================] - 1s 4ms/step - loss: 0.8508 - acc: 0.8213 - val_loss: 1.1423 - val_acc: 0.8171\n",
            "Epoch 6/20\n",
            "157/157 [==============================] - 1s 4ms/step - loss: 0.6285 - acc: 0.8575 - val_loss: 1.1089 - val_acc: 0.8115\n",
            "Epoch 7/20\n",
            "157/157 [==============================] - 1s 4ms/step - loss: 0.5550 - acc: 0.8528 - val_loss: 0.7995 - val_acc: 0.8466\n",
            "Epoch 8/20\n",
            "157/157 [==============================] - 1s 4ms/step - loss: 0.5344 - acc: 0.8696 - val_loss: 1.0224 - val_acc: 0.8347\n",
            "Epoch 9/20\n",
            "157/157 [==============================] - 1s 4ms/step - loss: 0.5562 - acc: 0.8885 - val_loss: 0.7082 - val_acc: 0.8267\n",
            "Epoch 10/20\n",
            "157/157 [==============================] - 1s 4ms/step - loss: 0.3763 - acc: 0.8993 - val_loss: 1.0190 - val_acc: 0.7963\n",
            "Epoch 11/20\n",
            "157/157 [==============================] - 1s 4ms/step - loss: 0.4718 - acc: 0.8877 - val_loss: 0.5668 - val_acc: 0.8698\n",
            "Epoch 12/20\n",
            "157/157 [==============================] - 1s 4ms/step - loss: 0.3822 - acc: 0.9006 - val_loss: 0.5326 - val_acc: 0.8794\n",
            "Epoch 13/20\n",
            "157/157 [==============================] - 1s 4ms/step - loss: 0.3679 - acc: 0.9152 - val_loss: 0.4457 - val_acc: 0.8882\n",
            "Epoch 14/20\n",
            "157/157 [==============================] - 1s 4ms/step - loss: 0.2812 - acc: 0.9170 - val_loss: 0.7442 - val_acc: 0.8538\n",
            "Epoch 15/20\n",
            "157/157 [==============================] - 1s 4ms/step - loss: 0.3435 - acc: 0.9211 - val_loss: 0.9075 - val_acc: 0.8466\n",
            "Epoch 16/20\n",
            "157/157 [==============================] - 1s 4ms/step - loss: 0.3394 - acc: 0.9221 - val_loss: 0.5135 - val_acc: 0.8642\n",
            "Epoch 17/20\n",
            "157/157 [==============================] - 1s 4ms/step - loss: 0.2661 - acc: 0.9243 - val_loss: 0.4872 - val_acc: 0.8834\n",
            "Epoch 18/20\n",
            "157/157 [==============================] - 1s 4ms/step - loss: 0.2977 - acc: 0.9258 - val_loss: 0.4674 - val_acc: 0.9002\n",
            "Epoch 19/20\n",
            "157/157 [==============================] - 1s 4ms/step - loss: 0.2212 - acc: 0.9490 - val_loss: 0.3903 - val_acc: 0.9081\n",
            "Epoch 20/20\n",
            "157/157 [==============================] - 1s 4ms/step - loss: 0.2728 - acc: 0.9365 - val_loss: 0.4827 - val_acc: 0.8842\n",
            "49/49 [==============================] - 0s 2ms/step - loss: 0.4382 - acc: 0.8990\n"
          ],
          "name": "stdout"
        }
      ]
    },
    {
      "cell_type": "code",
      "metadata": {
        "id": "nkOgzuLoyRPh",
        "colab": {
          "base_uri": "https://localhost:8080/",
          "height": 301
        },
        "outputId": "b1d47ef3-a761-49b1-e995-df59afd2dfcd"
      },
      "source": [
        "history_dict1 = history1.history\n",
        "history_dict1.keys()\n",
        "acc = history_dict1['acc']\n",
        "val_acc = history_dict1['val_acc']\n",
        "loss = history_dict1['loss']\n",
        "val_loss = history_dict1['val_loss']\n",
        "\n",
        "epochs = range(1, len(acc) + 1)\n",
        "\n",
        "# \"bo\" is for \"blue dot\"\n",
        "plt.plot(epochs, loss, 'bo', label='Training loss')\n",
        "# b is for \"solid blue line\"\n",
        "plt.plot(epochs, val_loss, 'b', label='Validation loss')\n",
        "plt.title('Training and validation loss')\n",
        "plt.xlabel('Epochs')\n",
        "plt.ylabel('Loss')\n",
        "plt.legend()\n",
        "\n",
        "plt.show()"
      ],
      "execution_count": 36,
      "outputs": [
        {
          "output_type": "display_data",
          "data": {
            "image/png": "[encoded data removed]",
            "text/plain": [
              "<Figure size 432x288 with 1 Axes>"
            ]
          },
          "metadata": {
            "tags": [],
            "needs_background": "light"
          }
        }
      ]
    },
    {
      "cell_type": "code",
      "metadata": {
        "id": "wymkZEtB3rcb"
      },
      "source": [
        ""
      ],
      "execution_count": 36,
      "outputs": []
    },
    {
      "cell_type": "code",
      "metadata": {
        "id": "e_FyIMs-yRPi",
        "colab": {
          "base_uri": "https://localhost:8080/"
        },
        "outputId": "2e55c4e2-998c-41ed-e977-b1502c84f56f"
      },
      "source": [
        "history2 = model.fit(features_train, labels_train, epochs=25, validation_data=(features_validation, labels_validation))\n",
        "prediction_features = model.predict(features_test)\n",
        "performance = model.evaluate(features_test, labels_test)\n",
        "print(performance)\n",
        " "
      ],
      "execution_count": 37,
      "outputs": [
        {
          "output_type": "stream",
          "text": [
            "Epoch 1/25\n",
            "157/157 [==============================] - 1s 5ms/step - loss: 0.2779 - acc: 0.9341 - val_loss: 0.4152 - val_acc: 0.9169\n",
            "Epoch 2/25\n",
            "157/157 [==============================] - 1s 4ms/step - loss: 0.2027 - acc: 0.9458 - val_loss: 0.2981 - val_acc: 0.9225\n",
            "Epoch 3/25\n",
            "157/157 [==============================] - 1s 4ms/step - loss: 0.2664 - acc: 0.9363 - val_loss: 0.3929 - val_acc: 0.9081\n",
            "Epoch 4/25\n",
            "157/157 [==============================] - 1s 5ms/step - loss: 0.2318 - acc: 0.9434 - val_loss: 0.4838 - val_acc: 0.9050\n",
            "Epoch 5/25\n",
            "157/157 [==============================] - 1s 4ms/step - loss: 0.2100 - acc: 0.9470 - val_loss: 0.3120 - val_acc: 0.9193\n",
            "Epoch 6/25\n",
            "157/157 [==============================] - 1s 4ms/step - loss: 0.2064 - acc: 0.9496 - val_loss: 0.3869 - val_acc: 0.9257\n",
            "Epoch 7/25\n",
            "157/157 [==============================] - 1s 4ms/step - loss: 0.1918 - acc: 0.9510 - val_loss: 0.3966 - val_acc: 0.9177\n",
            "Epoch 8/25\n",
            "157/157 [==============================] - 1s 4ms/step - loss: 0.2477 - acc: 0.9432 - val_loss: 0.3198 - val_acc: 0.9217\n",
            "Epoch 9/25\n",
            "157/157 [==============================] - 1s 4ms/step - loss: 0.3126 - acc: 0.9355 - val_loss: 0.5003 - val_acc: 0.9129\n",
            "Epoch 10/25\n",
            "157/157 [==============================] - 1s 4ms/step - loss: 0.2077 - acc: 0.9512 - val_loss: 0.3871 - val_acc: 0.9249\n",
            "Epoch 11/25\n",
            "157/157 [==============================] - 1s 4ms/step - loss: 0.2164 - acc: 0.9486 - val_loss: 0.3377 - val_acc: 0.9097\n",
            "Epoch 12/25\n",
            "157/157 [==============================] - 1s 4ms/step - loss: 0.1670 - acc: 0.9558 - val_loss: 0.4179 - val_acc: 0.9153\n",
            "Epoch 13/25\n",
            "157/157 [==============================] - 1s 4ms/step - loss: 0.2086 - acc: 0.9448 - val_loss: 0.2970 - val_acc: 0.9273\n",
            "Epoch 14/25\n",
            "157/157 [==============================] - 1s 4ms/step - loss: 0.1972 - acc: 0.9506 - val_loss: 0.3186 - val_acc: 0.9273\n",
            "Epoch 15/25\n",
            "157/157 [==============================] - 1s 5ms/step - loss: 0.1938 - acc: 0.9554 - val_loss: 0.4994 - val_acc: 0.8914\n",
            "Epoch 16/25\n",
            "157/157 [==============================] - 1s 4ms/step - loss: 0.1568 - acc: 0.9610 - val_loss: 0.2747 - val_acc: 0.9329\n",
            "Epoch 17/25\n",
            "157/157 [==============================] - 1s 4ms/step - loss: 0.1696 - acc: 0.9578 - val_loss: 0.2575 - val_acc: 0.9297\n",
            "Epoch 18/25\n",
            "157/157 [==============================] - 1s 5ms/step - loss: 0.1543 - acc: 0.9632 - val_loss: 0.2772 - val_acc: 0.9273\n",
            "Epoch 19/25\n",
            "157/157 [==============================] - 1s 5ms/step - loss: 0.1459 - acc: 0.9630 - val_loss: 0.3073 - val_acc: 0.9353\n",
            "Epoch 20/25\n",
            "157/157 [==============================] - 1s 5ms/step - loss: 0.1206 - acc: 0.9676 - val_loss: 0.6262 - val_acc: 0.9065\n",
            "Epoch 21/25\n",
            "157/157 [==============================] - 1s 4ms/step - loss: 0.1777 - acc: 0.9544 - val_loss: 0.2743 - val_acc: 0.9281\n",
            "Epoch 22/25\n",
            "157/157 [==============================] - 1s 4ms/step - loss: 0.1241 - acc: 0.9682 - val_loss: 0.3211 - val_acc: 0.9281\n",
            "Epoch 23/25\n",
            "157/157 [==============================] - 1s 4ms/step - loss: 0.1411 - acc: 0.9630 - val_loss: 0.2747 - val_acc: 0.9337\n",
            "Epoch 24/25\n",
            "157/157 [==============================] - 1s 5ms/step - loss: 0.1475 - acc: 0.9608 - val_loss: 0.2790 - val_acc: 0.9337\n",
            "Epoch 25/25\n",
            "157/157 [==============================] - 1s 5ms/step - loss: 0.1913 - acc: 0.9544 - val_loss: 0.2363 - val_acc: 0.9457\n",
            "49/49 [==============================] - 0s 2ms/step - loss: 0.2377 - acc: 0.9380\n",
            "[0.23774661123752594, 0.937979519367218]\n"
          ],
          "name": "stdout"
        }
      ]
    },
    {
      "cell_type": "code",
      "metadata": {
        "id": "EW4iaQu5yRPj",
        "colab": {
          "base_uri": "https://localhost:8080/",
          "height": 301
        },
        "outputId": "8c56c237-cd58-4118-b800-c7a4b112c562"
      },
      "source": [
        "history_dict2 = history2.history\n",
        "history_dict2.keys()\n",
        "acc = history_dict2['acc']\n",
        "val_acc = history_dict2['val_acc']\n",
        "loss = history_dict2['loss']\n",
        "val_loss = history_dict2['val_loss']\n",
        "\n",
        "epochs = range(1, len(acc) + 1)\n",
        "\n",
        "# \"bo\" is for \"blue dot\"\n",
        "plt.plot(epochs, loss, 'bo', label='Training loss')\n",
        "# b is for \"solid blue line\"\n",
        "plt.plot(epochs, val_loss, 'b', label='Validation loss')\n",
        "plt.title('Training and validation loss')\n",
        "plt.xlabel('Epochs')\n",
        "plt.ylabel('Loss')\n",
        "plt.legend()\n",
        "\n",
        "plt.show()\n",
        " "
      ],
      "execution_count": 38,
      "outputs": [
        {
          "output_type": "display_data",
          "data": {
            "image/png": "[encoded data removed]",
            "text/plain": [
              "<Figure size 432x288 with 1 Axes>"
            ]
          },
          "metadata": {
            "tags": [],
            "needs_background": "light"
          }
        }
      ]
    },
    {
      "cell_type": "code",
      "metadata": {
        "id": "0n1Zk0nHyRPj",
        "colab": {
          "base_uri": "https://localhost:8080/"
        },
        "outputId": "af417ef9-b4c5-4ee3-966d-98a55ca1a76c"
      },
      "source": [
        "history3 = model.fit(features_train, labels_train, epochs=15, validation_data=(features_validation, labels_validation))\n",
        "prediction_features = model.predict(features_test)\n",
        "performance = model.evaluate(features_test, labels_test)\n",
        "print(performance)"
      ],
      "execution_count": 39,
      "outputs": [
        {
          "output_type": "stream",
          "text": [
            "Epoch 1/15\n",
            "157/157 [==============================] - 1s 5ms/step - loss: 0.1394 - acc: 0.9626 - val_loss: 0.2381 - val_acc: 0.9465\n",
            "Epoch 2/15\n",
            "157/157 [==============================] - 1s 4ms/step - loss: 0.1320 - acc: 0.9658 - val_loss: 0.2693 - val_acc: 0.9353\n",
            "Epoch 3/15\n",
            "157/157 [==============================] - 1s 5ms/step - loss: 0.1181 - acc: 0.9638 - val_loss: 0.2215 - val_acc: 0.9441\n",
            "Epoch 4/15\n",
            "157/157 [==============================] - 1s 5ms/step - loss: 0.1754 - acc: 0.9528 - val_loss: 0.3173 - val_acc: 0.9361\n",
            "Epoch 5/15\n",
            "157/157 [==============================] - 1s 5ms/step - loss: 0.2005 - acc: 0.9532 - val_loss: 0.2366 - val_acc: 0.9425\n",
            "Epoch 6/15\n",
            "157/157 [==============================] - 1s 5ms/step - loss: 0.1256 - acc: 0.9680 - val_loss: 0.2611 - val_acc: 0.9369\n",
            "Epoch 7/15\n",
            "157/157 [==============================] - 1s 5ms/step - loss: 0.1481 - acc: 0.9644 - val_loss: 0.2497 - val_acc: 0.9393\n",
            "Epoch 8/15\n",
            "157/157 [==============================] - 1s 5ms/step - loss: 0.0908 - acc: 0.9730 - val_loss: 0.2651 - val_acc: 0.9361\n",
            "Epoch 9/15\n",
            "157/157 [==============================] - 1s 5ms/step - loss: 0.1110 - acc: 0.9714 - val_loss: 0.2243 - val_acc: 0.9409\n",
            "Epoch 10/15\n",
            "157/157 [==============================] - 1s 5ms/step - loss: 0.1371 - acc: 0.9666 - val_loss: 0.2189 - val_acc: 0.9473\n",
            "Epoch 11/15\n",
            "157/157 [==============================] - 1s 5ms/step - loss: 0.1027 - acc: 0.9720 - val_loss: 0.2087 - val_acc: 0.9457\n",
            "Epoch 12/15\n",
            "157/157 [==============================] - 1s 5ms/step - loss: 0.1144 - acc: 0.9682 - val_loss: 0.2541 - val_acc: 0.9449\n",
            "Epoch 13/15\n",
            "157/157 [==============================] - 1s 5ms/step - loss: 0.1253 - acc: 0.9668 - val_loss: 0.1790 - val_acc: 0.9537\n",
            "Epoch 14/15\n",
            "157/157 [==============================] - 1s 5ms/step - loss: 0.0872 - acc: 0.9720 - val_loss: 0.2280 - val_acc: 0.9393\n",
            "Epoch 15/15\n",
            "157/157 [==============================] - 1s 5ms/step - loss: 0.1232 - acc: 0.9648 - val_loss: 0.3332 - val_acc: 0.9329\n",
            "49/49 [==============================] - 0s 2ms/step - loss: 0.2029 - acc: 0.9437\n",
            "[0.2028769701719284, 0.9437339901924133]\n"
          ],
          "name": "stdout"
        }
      ]
    },
    {
      "cell_type": "code",
      "metadata": {
        "id": "Zg41dZBNyRPj",
        "colab": {
          "base_uri": "https://localhost:8080/",
          "height": 301
        },
        "outputId": "40d4a7cd-75ff-4eb3-fd47-ab7e0f8789e5"
      },
      "source": [
        "history_dict3 = history3.history\n",
        "history_dict3.keys()\n",
        "acc = history_dict3['acc']\n",
        "val_acc = history_dict3['val_acc']\n",
        "loss = history_dict3['loss']\n",
        "val_loss = history_dict3['val_loss']\n",
        "\n",
        "epochs = range(1, len(acc) + 1)\n",
        "\n",
        "# \"bo\" is for \"blue dot\"\n",
        "plt.plot(epochs, loss, 'bo', label='Training loss')\n",
        "# b is for \"solid blue line\"\n",
        "plt.plot(epochs, val_loss, 'b', label='Validation loss')\n",
        "plt.title('Training and validation loss')\n",
        "plt.xlabel('Epochs')\n",
        "plt.ylabel('Loss')\n",
        "plt.legend()\n",
        "\n",
        "plt.show()"
      ],
      "execution_count": 40,
      "outputs": [
        {
          "output_type": "display_data",
          "data": {
            "image/png": "[encoded data removed]",
            "text/plain": [
              "<Figure size 432x288 with 1 Axes>"
            ]
          },
          "metadata": {
            "tags": [],
            "needs_background": "light"
          }
        }
      ]
    },
    {
      "cell_type": "code",
      "metadata": {
        "id": "2EPuCNacyRPk",
        "colab": {
          "base_uri": "https://localhost:8080/"
        },
        "outputId": "1b325a5e-c283-4b57-8218-0a7bed414426"
      },
      "source": [
        "history4 = model.fit(features_train, labels_train, epochs=100, validation_data=(features_validation, labels_validation))\n",
        "prediction_features = model.predict(features_test)\n",
        "performance = model.evaluate(features_test, labels_test)\n",
        "print(performance)"
      ],
      "execution_count": 41,
      "outputs": [
        {
          "output_type": "stream",
          "text": [
            "Epoch 1/100\n",
            "157/157 [==============================] - 1s 5ms/step - loss: 0.1145 - acc: 0.9684 - val_loss: 0.2640 - val_acc: 0.9409\n",
            "Epoch 2/100\n",
            "157/157 [==============================] - 1s 5ms/step - loss: 0.1074 - acc: 0.9698 - val_loss: 0.2840 - val_acc: 0.9361\n",
            "Epoch 3/100\n",
            "157/157 [==============================] - 1s 5ms/step - loss: 0.1358 - acc: 0.9640 - val_loss: 0.3131 - val_acc: 0.9369\n",
            "Epoch 4/100\n",
            "157/157 [==============================] - 1s 5ms/step - loss: 0.1092 - acc: 0.9678 - val_loss: 0.2734 - val_acc: 0.9353\n",
            "Epoch 5/100\n",
            "157/157 [==============================] - 1s 4ms/step - loss: 0.0928 - acc: 0.9730 - val_loss: 0.2410 - val_acc: 0.9465\n",
            "Epoch 6/100\n",
            "157/157 [==============================] - 1s 4ms/step - loss: 0.1042 - acc: 0.9742 - val_loss: 0.3026 - val_acc: 0.9321\n",
            "Epoch 7/100\n",
            "157/157 [==============================] - 1s 5ms/step - loss: 0.0989 - acc: 0.9744 - val_loss: 0.1974 - val_acc: 0.9505\n",
            "Epoch 8/100\n",
            "157/157 [==============================] - 1s 5ms/step - loss: 0.0849 - acc: 0.9776 - val_loss: 0.2951 - val_acc: 0.9313\n",
            "Epoch 9/100\n",
            "157/157 [==============================] - 1s 5ms/step - loss: 0.1161 - acc: 0.9698 - val_loss: 0.2143 - val_acc: 0.9489\n",
            "Epoch 10/100\n",
            "157/157 [==============================] - 1s 5ms/step - loss: 0.1104 - acc: 0.9718 - val_loss: 0.2242 - val_acc: 0.9417\n",
            "Epoch 11/100\n",
            "157/157 [==============================] - 1s 5ms/step - loss: 0.1248 - acc: 0.9642 - val_loss: 0.2396 - val_acc: 0.9465\n",
            "Epoch 12/100\n",
            "157/157 [==============================] - 1s 5ms/step - loss: 0.1035 - acc: 0.9706 - val_loss: 0.2058 - val_acc: 0.9473\n",
            "Epoch 13/100\n",
            "157/157 [==============================] - 1s 4ms/step - loss: 0.0933 - acc: 0.9760 - val_loss: 0.2216 - val_acc: 0.9433\n",
            "Epoch 14/100\n",
            "157/157 [==============================] - 1s 4ms/step - loss: 0.0657 - acc: 0.9802 - val_loss: 0.2061 - val_acc: 0.9457\n",
            "Epoch 15/100\n",
            "157/157 [==============================] - 1s 4ms/step - loss: 0.0774 - acc: 0.9762 - val_loss: 0.2065 - val_acc: 0.9505\n",
            "Epoch 16/100\n",
            "157/157 [==============================] - 1s 4ms/step - loss: 0.0760 - acc: 0.9788 - val_loss: 0.2190 - val_acc: 0.9537\n",
            "Epoch 17/100\n",
            "157/157 [==============================] - 1s 4ms/step - loss: 0.1125 - acc: 0.9698 - val_loss: 0.2461 - val_acc: 0.9481\n",
            "Epoch 18/100\n",
            "157/157 [==============================] - 1s 4ms/step - loss: 0.1000 - acc: 0.9738 - val_loss: 0.1943 - val_acc: 0.9513\n",
            "Epoch 19/100\n",
            "157/157 [==============================] - 1s 4ms/step - loss: 0.0891 - acc: 0.9740 - val_loss: 0.2308 - val_acc: 0.9497\n",
            "Epoch 20/100\n",
            "157/157 [==============================] - 1s 5ms/step - loss: 0.0752 - acc: 0.9780 - val_loss: 0.2178 - val_acc: 0.9545\n",
            "Epoch 21/100\n",
            "157/157 [==============================] - 1s 4ms/step - loss: 0.0755 - acc: 0.9762 - val_loss: 0.2393 - val_acc: 0.9465\n",
            "Epoch 22/100\n",
            "157/157 [==============================] - 1s 5ms/step - loss: 0.0694 - acc: 0.9770 - val_loss: 0.2588 - val_acc: 0.9441\n",
            "Epoch 23/100\n",
            "157/157 [==============================] - 1s 5ms/step - loss: 0.1181 - acc: 0.9668 - val_loss: 0.2283 - val_acc: 0.9449\n",
            "Epoch 24/100\n",
            "157/157 [==============================] - 1s 5ms/step - loss: 0.0817 - acc: 0.9786 - val_loss: 0.2216 - val_acc: 0.9561\n",
            "Epoch 25/100\n",
            "157/157 [==============================] - 1s 5ms/step - loss: 0.0810 - acc: 0.9752 - val_loss: 0.2441 - val_acc: 0.9489\n",
            "Epoch 26/100\n",
            "157/157 [==============================] - 1s 4ms/step - loss: 0.0789 - acc: 0.9760 - val_loss: 0.2403 - val_acc: 0.9441\n",
            "Epoch 27/100\n",
            "157/157 [==============================] - 1s 5ms/step - loss: 0.0765 - acc: 0.9770 - val_loss: 0.2210 - val_acc: 0.9521\n",
            "Epoch 28/100\n",
            "157/157 [==============================] - 1s 5ms/step - loss: 0.0935 - acc: 0.9712 - val_loss: 0.2028 - val_acc: 0.9497\n",
            "Epoch 29/100\n",
            "157/157 [==============================] - 1s 4ms/step - loss: 0.0725 - acc: 0.9788 - val_loss: 0.1954 - val_acc: 0.9505\n",
            "Epoch 30/100\n",
            "157/157 [==============================] - 1s 5ms/step - loss: 0.1186 - acc: 0.9664 - val_loss: 0.2413 - val_acc: 0.9457\n",
            "Epoch 31/100\n",
            "157/157 [==============================] - 1s 5ms/step - loss: 0.0956 - acc: 0.9740 - val_loss: 0.2340 - val_acc: 0.9497\n",
            "Epoch 32/100\n",
            "157/157 [==============================] - 1s 5ms/step - loss: 0.0928 - acc: 0.9748 - val_loss: 0.2933 - val_acc: 0.9441\n",
            "Epoch 33/100\n",
            "157/157 [==============================] - 1s 5ms/step - loss: 0.0818 - acc: 0.9738 - val_loss: 0.2278 - val_acc: 0.9577\n",
            "Epoch 34/100\n",
            "157/157 [==============================] - 1s 5ms/step - loss: 0.0728 - acc: 0.9780 - val_loss: 0.2051 - val_acc: 0.9513\n",
            "Epoch 35/100\n",
            "157/157 [==============================] - 1s 4ms/step - loss: 0.0536 - acc: 0.9826 - val_loss: 0.2474 - val_acc: 0.9505\n",
            "Epoch 36/100\n",
            "157/157 [==============================] - 1s 4ms/step - loss: 0.0569 - acc: 0.9812 - val_loss: 0.2704 - val_acc: 0.9425\n",
            "Epoch 37/100\n",
            "157/157 [==============================] - 1s 4ms/step - loss: 0.0511 - acc: 0.9822 - val_loss: 0.2351 - val_acc: 0.9569\n",
            "Epoch 38/100\n",
            "157/157 [==============================] - 1s 5ms/step - loss: 0.0571 - acc: 0.9830 - val_loss: 0.2623 - val_acc: 0.9497\n",
            "Epoch 39/100\n",
            "157/157 [==============================] - 1s 5ms/step - loss: 0.1052 - acc: 0.9734 - val_loss: 0.3784 - val_acc: 0.9289\n",
            "Epoch 40/100\n",
            "157/157 [==============================] - 1s 4ms/step - loss: 0.0771 - acc: 0.9784 - val_loss: 0.2678 - val_acc: 0.9473\n",
            "Epoch 41/100\n",
            "157/157 [==============================] - 1s 4ms/step - loss: 0.0834 - acc: 0.9810 - val_loss: 0.3065 - val_acc: 0.9441\n",
            "Epoch 42/100\n",
            "157/157 [==============================] - 1s 5ms/step - loss: 0.0580 - acc: 0.9824 - val_loss: 0.2510 - val_acc: 0.9481\n",
            "Epoch 43/100\n",
            "157/157 [==============================] - 1s 5ms/step - loss: 0.0418 - acc: 0.9874 - val_loss: 0.2194 - val_acc: 0.9537\n",
            "Epoch 44/100\n",
            "157/157 [==============================] - 1s 4ms/step - loss: 0.0807 - acc: 0.9750 - val_loss: 0.2613 - val_acc: 0.9505\n",
            "Epoch 45/100\n",
            "157/157 [==============================] - 1s 5ms/step - loss: 0.0922 - acc: 0.9758 - val_loss: 0.2284 - val_acc: 0.9497\n",
            "Epoch 46/100\n",
            "157/157 [==============================] - 1s 4ms/step - loss: 0.0784 - acc: 0.9754 - val_loss: 0.2326 - val_acc: 0.9529\n",
            "Epoch 47/100\n",
            "157/157 [==============================] - 1s 5ms/step - loss: 0.0481 - acc: 0.9824 - val_loss: 0.2518 - val_acc: 0.9441\n",
            "Epoch 48/100\n",
            "157/157 [==============================] - 1s 4ms/step - loss: 0.0562 - acc: 0.9806 - val_loss: 0.2275 - val_acc: 0.9569\n",
            "Epoch 49/100\n",
            "157/157 [==============================] - 1s 4ms/step - loss: 0.0504 - acc: 0.9828 - val_loss: 0.2802 - val_acc: 0.9513\n",
            "Epoch 50/100\n",
            "157/157 [==============================] - 1s 4ms/step - loss: 0.0470 - acc: 0.9852 - val_loss: 0.3000 - val_acc: 0.9473\n",
            "Epoch 51/100\n",
            "157/157 [==============================] - 1s 4ms/step - loss: 0.0437 - acc: 0.9860 - val_loss: 0.2224 - val_acc: 0.9489\n",
            "Epoch 52/100\n",
            "157/157 [==============================] - 1s 5ms/step - loss: 0.0829 - acc: 0.9760 - val_loss: 0.2844 - val_acc: 0.9481\n",
            "Epoch 53/100\n",
            "157/157 [==============================] - 1s 4ms/step - loss: 0.0569 - acc: 0.9856 - val_loss: 0.3665 - val_acc: 0.9289\n",
            "Epoch 54/100\n",
            "157/157 [==============================] - 1s 5ms/step - loss: 0.0795 - acc: 0.9778 - val_loss: 0.3216 - val_acc: 0.9385\n",
            "Epoch 55/100\n",
            "157/157 [==============================] - 1s 4ms/step - loss: 0.0628 - acc: 0.9806 - val_loss: 0.2389 - val_acc: 0.9497\n",
            "Epoch 56/100\n",
            "157/157 [==============================] - 1s 4ms/step - loss: 0.0627 - acc: 0.9808 - val_loss: 0.2600 - val_acc: 0.9481\n",
            "Epoch 57/100\n",
            "157/157 [==============================] - 1s 4ms/step - loss: 0.0641 - acc: 0.9816 - val_loss: 0.2848 - val_acc: 0.9481\n",
            "Epoch 58/100\n",
            "157/157 [==============================] - 1s 4ms/step - loss: 0.0579 - acc: 0.9832 - val_loss: 0.3850 - val_acc: 0.9385\n",
            "Epoch 59/100\n",
            "157/157 [==============================] - 1s 4ms/step - loss: 0.1066 - acc: 0.9702 - val_loss: 0.3137 - val_acc: 0.9417\n",
            "Epoch 60/100\n",
            "157/157 [==============================] - 1s 4ms/step - loss: 0.0516 - acc: 0.9852 - val_loss: 0.2422 - val_acc: 0.9513\n",
            "Epoch 61/100\n",
            "157/157 [==============================] - 1s 4ms/step - loss: 0.0334 - acc: 0.9892 - val_loss: 0.2583 - val_acc: 0.9521\n",
            "Epoch 62/100\n",
            "157/157 [==============================] - 1s 5ms/step - loss: 0.0374 - acc: 0.9876 - val_loss: 0.2683 - val_acc: 0.9513\n",
            "Epoch 63/100\n",
            "157/157 [==============================] - 1s 4ms/step - loss: 0.0257 - acc: 0.9926 - val_loss: 0.2491 - val_acc: 0.9617\n",
            "Epoch 64/100\n",
            "157/157 [==============================] - 1s 5ms/step - loss: 0.0225 - acc: 0.9938 - val_loss: 0.2754 - val_acc: 0.9513\n",
            "Epoch 65/100\n",
            "157/157 [==============================] - 1s 4ms/step - loss: 0.0894 - acc: 0.9718 - val_loss: 0.3445 - val_acc: 0.9409\n",
            "Epoch 66/100\n",
            "157/157 [==============================] - 1s 4ms/step - loss: 0.0854 - acc: 0.9746 - val_loss: 0.2822 - val_acc: 0.9481\n",
            "Epoch 67/100\n",
            "157/157 [==============================] - 1s 4ms/step - loss: 0.0381 - acc: 0.9870 - val_loss: 0.2816 - val_acc: 0.9537\n",
            "Epoch 68/100\n",
            "157/157 [==============================] - 1s 5ms/step - loss: 0.0377 - acc: 0.9884 - val_loss: 0.2566 - val_acc: 0.9489\n",
            "Epoch 69/100\n",
            "157/157 [==============================] - 1s 5ms/step - loss: 0.0421 - acc: 0.9860 - val_loss: 0.2848 - val_acc: 0.9505\n",
            "Epoch 70/100\n",
            "157/157 [==============================] - 1s 5ms/step - loss: 0.0516 - acc: 0.9838 - val_loss: 0.2742 - val_acc: 0.9545\n",
            "Epoch 71/100\n",
            "157/157 [==============================] - 1s 5ms/step - loss: 0.0870 - acc: 0.9758 - val_loss: 0.2556 - val_acc: 0.9497\n",
            "Epoch 72/100\n",
            "157/157 [==============================] - 1s 5ms/step - loss: 0.0516 - acc: 0.9858 - val_loss: 0.2803 - val_acc: 0.9489\n",
            "Epoch 73/100\n",
            "157/157 [==============================] - 1s 4ms/step - loss: 0.0524 - acc: 0.9838 - val_loss: 0.2160 - val_acc: 0.9553\n",
            "Epoch 74/100\n",
            "157/157 [==============================] - 1s 5ms/step - loss: 0.0511 - acc: 0.9872 - val_loss: 0.2538 - val_acc: 0.9441\n",
            "Epoch 75/100\n",
            "157/157 [==============================] - 1s 5ms/step - loss: 0.0487 - acc: 0.9866 - val_loss: 0.2540 - val_acc: 0.9529\n",
            "Epoch 76/100\n",
            "157/157 [==============================] - 1s 5ms/step - loss: 0.0378 - acc: 0.9864 - val_loss: 0.2777 - val_acc: 0.9433\n",
            "Epoch 77/100\n",
            "157/157 [==============================] - 1s 4ms/step - loss: 0.0580 - acc: 0.9816 - val_loss: 0.2646 - val_acc: 0.9465\n",
            "Epoch 78/100\n",
            "157/157 [==============================] - 1s 5ms/step - loss: 0.0585 - acc: 0.9834 - val_loss: 0.2973 - val_acc: 0.9353\n",
            "Epoch 79/100\n",
            "157/157 [==============================] - 1s 4ms/step - loss: 0.0351 - acc: 0.9874 - val_loss: 0.2368 - val_acc: 0.9521\n",
            "Epoch 80/100\n",
            "157/157 [==============================] - 1s 4ms/step - loss: 0.0284 - acc: 0.9916 - val_loss: 0.2921 - val_acc: 0.9465\n",
            "Epoch 81/100\n",
            "157/157 [==============================] - 1s 4ms/step - loss: 0.0211 - acc: 0.9940 - val_loss: 0.2647 - val_acc: 0.9553\n",
            "Epoch 82/100\n",
            "157/157 [==============================] - 1s 5ms/step - loss: 0.0174 - acc: 0.9950 - val_loss: 0.2893 - val_acc: 0.9449\n",
            "Epoch 83/100\n",
            "157/157 [==============================] - 1s 4ms/step - loss: 0.0539 - acc: 0.9860 - val_loss: 0.3146 - val_acc: 0.9401\n",
            "Epoch 84/100\n",
            "157/157 [==============================] - 1s 5ms/step - loss: 0.1312 - acc: 0.9684 - val_loss: 0.3118 - val_acc: 0.9385\n",
            "Epoch 85/100\n",
            "157/157 [==============================] - 1s 5ms/step - loss: 0.0857 - acc: 0.9788 - val_loss: 0.3025 - val_acc: 0.9473\n",
            "Epoch 86/100\n",
            "157/157 [==============================] - 1s 4ms/step - loss: 0.0410 - acc: 0.9882 - val_loss: 0.2740 - val_acc: 0.9497\n",
            "Epoch 87/100\n",
            "157/157 [==============================] - 1s 4ms/step - loss: 0.0234 - acc: 0.9924 - val_loss: 0.2571 - val_acc: 0.9529\n",
            "Epoch 88/100\n",
            "157/157 [==============================] - 1s 5ms/step - loss: 0.0203 - acc: 0.9940 - val_loss: 0.2681 - val_acc: 0.9481\n",
            "Epoch 89/100\n",
            "157/157 [==============================] - 1s 4ms/step - loss: 0.0207 - acc: 0.9942 - val_loss: 0.3474 - val_acc: 0.9409\n",
            "Epoch 90/100\n",
            "157/157 [==============================] - 1s 4ms/step - loss: 0.0635 - acc: 0.9842 - val_loss: 0.2737 - val_acc: 0.9489\n",
            "Epoch 91/100\n",
            "157/157 [==============================] - 1s 5ms/step - loss: 0.0485 - acc: 0.9864 - val_loss: 0.3559 - val_acc: 0.9377\n",
            "Epoch 92/100\n",
            "157/157 [==============================] - 1s 5ms/step - loss: 0.0229 - acc: 0.9928 - val_loss: 0.2756 - val_acc: 0.9521\n",
            "Epoch 93/100\n",
            "157/157 [==============================] - 1s 4ms/step - loss: 0.0357 - acc: 0.9924 - val_loss: 0.2619 - val_acc: 0.9529\n",
            "Epoch 94/100\n",
            "157/157 [==============================] - 1s 5ms/step - loss: 0.0577 - acc: 0.9848 - val_loss: 0.2483 - val_acc: 0.9473\n",
            "Epoch 95/100\n",
            "157/157 [==============================] - 1s 5ms/step - loss: 0.0683 - acc: 0.9822 - val_loss: 0.2670 - val_acc: 0.9505\n",
            "Epoch 96/100\n",
            "157/157 [==============================] - 1s 4ms/step - loss: 0.0585 - acc: 0.9832 - val_loss: 0.2375 - val_acc: 0.9529\n",
            "Epoch 97/100\n",
            "157/157 [==============================] - 1s 4ms/step - loss: 0.0374 - acc: 0.9886 - val_loss: 0.2565 - val_acc: 0.9473\n",
            "Epoch 98/100\n",
            "157/157 [==============================] - 1s 5ms/step - loss: 0.0384 - acc: 0.9898 - val_loss: 0.3048 - val_acc: 0.9441\n",
            "Epoch 99/100\n",
            "157/157 [==============================] - 1s 4ms/step - loss: 0.0340 - acc: 0.9894 - val_loss: 0.3111 - val_acc: 0.9473\n",
            "Epoch 100/100\n",
            "157/157 [==============================] - 1s 5ms/step - loss: 0.0463 - acc: 0.9852 - val_loss: 0.3385 - val_acc: 0.9433\n",
            "49/49 [==============================] - 0s 2ms/step - loss: 0.2536 - acc: 0.9514\n",
            "[0.2535589337348938, 0.9514066576957703]\n"
          ],
          "name": "stdout"
        }
      ]
    },
    {
      "cell_type": "code",
      "metadata": {
        "colab": {
          "base_uri": "https://localhost:8080/",
          "height": 301
        },
        "id": "VkbbvDf2nKrH",
        "outputId": "fd2b53cd-af57-45d5-c1bb-8ddd3db23b39"
      },
      "source": [
        "history_dict4 = history4.history\n",
        "history_dict4.keys()\n",
        "acc = history_dict4['acc']\n",
        "val_acc = history_dict4['val_acc']\n",
        "loss = history_dict4['loss']\n",
        "val_loss = history_dict4['val_loss']\n",
        "\n",
        "epochs = range(1, len(acc) + 1)\n",
        "\n",
        "# \"bo\" is for \"blue dot\"\n",
        "plt.plot(epochs, loss, 'bo', label='Training loss')\n",
        "# b is for \"solid blue line\"\n",
        "plt.plot(epochs, val_loss, 'b', label='Validation loss')\n",
        "plt.title('Training and validation loss')\n",
        "plt.xlabel('Epochs')\n",
        "plt.ylabel('Loss')\n",
        "plt.legend()\n",
        "\n",
        "plt.show()"
      ],
      "execution_count": 42,
      "outputs": [
        {
          "output_type": "display_data",
          "data": {
            "image/png": "[encoded data removed]",
            "text/plain": [
              "<Figure size 432x288 with 1 Axes>"
            ]
          },
          "metadata": {
            "tags": [],
            "needs_background": "light"
          }
        }
      ]
    },
    {
      "cell_type": "markdown",
      "metadata": {
        "id": "xAj3mLhFyRPk"
      },
      "source": [
        "It seems that from this graph that my model is over fitting, great. Screams in pillow. lets try running it after some cross validation"
      ]
    },
    {
      "cell_type": "markdown",
      "metadata": {
        "id": "uA7Bo4eyJ0cZ"
      },
      "source": [
        "### Using Grid Search Optimizing and Testing which algorithm performs the best"
      ]
    },
    {
      "cell_type": "code",
      "metadata": {
        "id": "FPOj1STyE8CZ"
      },
      "source": [
        "models = ['K-Nearest-Neighbors', 'Logistic Regression', 'Stochastic Gradient Descent', 'Gaussian Naive-Bayes', 'Random Forest']"
      ],
      "execution_count": 43,
      "outputs": []
    },
    {
      "cell_type": "code",
      "metadata": {
        "id": "8yGrUbndTaiL",
        "colab": {
          "base_uri": "https://localhost:8080/"
        },
        "outputId": "4ade8171-66a5-447e-bd9b-4d7a9ee8ffca"
      },
      "source": [
        "%%time \r\n",
        "# takes a long time. 3min 19s\r\n",
        "\r\n",
        "# model test scores\r\n",
        "test_accs = []\r\n",
        "test_recalls = []\r\n",
        "\r\n",
        "# Get best test scores\r\n",
        "\r\n",
        "knn = KNeighborsClassifier()\r\n",
        "pipe = Pipeline([('KNN', knn)])\r\n",
        "\r\n",
        "\r\n",
        "#n_params = [1]\r\n",
        "# Use plot above to choose params for GridSearchCV\r\n",
        "n_params = [1, 2, 3 ,4 ,5]\r\n",
        "\r\n",
        "param_grid = {\r\n",
        "    'KNN__n_neighbors': n_params\r\n",
        "}\r\n",
        "\r\n",
        "search = GridSearchCV(pipe, param_grid, cv=2, scoring='recall' )\r\n",
        "search.fit(np.concatenate((X_train, X_valid)), np.concatenate((y_train, y_valid)))\r\n",
        "test_recall = recall_score(search.predict(X_test), y_test)\r\n",
        "test_recalls.append(test_recall)\r\n",
        "\r\n",
        "search = GridSearchCV(pipe, param_grid, cv=2, scoring='accuracy' )\r\n",
        "search.fit(np.concatenate((X_train, X_valid)), np.concatenate((y_train, y_valid)))\r\n",
        "test_acc = accuracy_score(search.predict(X_test), y_test)\r\n",
        "test_accs.append(test_acc)\r\n",
        " "
      ],
      "execution_count": 44,
      "outputs": [
        {
          "output_type": "stream",
          "text": [
            "CPU times: user 1min 40s, sys: 1.66 ms, total: 1min 40s\n",
            "Wall time: 1min 40s\n"
          ],
          "name": "stdout"
        }
      ]
    },
    {
      "cell_type": "code",
      "metadata": {
        "id": "fkPoPk-htChD",
        "colab": {
          "base_uri": "https://localhost:8080/"
        },
        "outputId": "f62749f0-b695-47f3-d1a2-bfec214f2c8a"
      },
      "source": [
        "print('Best params for KNN',search.best_params_)\n",
        "print('Best recall for KNN',test_recall)\n",
        "print('Best accuracy for KNN',test_acc)"
      ],
      "execution_count": 45,
      "outputs": [
        {
          "output_type": "stream",
          "text": [
            "Best params for KNN {'KNN__n_neighbors': 1}\n",
            "Best recall for KNN 0.9981949458483754\n",
            "Best accuracy for KNN 0.9867007672634271\n"
          ],
          "name": "stdout"
        }
      ]
    },
    {
      "cell_type": "code",
      "metadata": {
        "id": "bOQv_4LS1Wyw",
        "colab": {
          "base_uri": "https://localhost:8080/"
        },
        "outputId": "3ce8f630-3e1c-4031-9177-59dbae8e82c5"
      },
      "source": [
        "%%time\n",
        "# Logistic Regression\n",
        "C_params = [.9, .95, 1]\n",
        "\n",
        "param_grid = {\n",
        "    'lr__C': C_params\n",
        "}\n",
        "\n",
        "lr = LogisticRegression(random_state = 69)\n",
        "pipe = Pipeline([('lr', lr)])\n",
        "\n",
        "search = GridSearchCV(pipe, param_grid, cv=2, scoring='recall' )\n",
        "search.fit(np.concatenate((X_train, X_valid)), np.concatenate((y_train, y_valid)))\n",
        "\n",
        "test_recall = recall_score(search.predict(X_test), y_test)\n",
        "test_recalls.append(test_recall)\n",
        "\n",
        "search = GridSearchCV(pipe, param_grid, cv=2, scoring='accuracy' )\n",
        "search.fit(np.concatenate((X_train, X_valid)), np.concatenate((y_train, y_valid)))\n",
        "\n",
        "test_acc = accuracy_score(search.predict(X_test), y_test)\n",
        "test_accs.append(test_acc)\n",
        "\n",
        "# test scores"
      ],
      "execution_count": 46,
      "outputs": [
        {
          "output_type": "stream",
          "text": [
            "CPU times: user 3.32 s, sys: 1.34 s, total: 4.66 s\n",
            "Wall time: 2.38 s\n"
          ],
          "name": "stdout"
        }
      ]
    },
    {
      "cell_type": "code",
      "metadata": {
        "id": "QRzo7oEluwwR",
        "colab": {
          "base_uri": "https://localhost:8080/"
        },
        "outputId": "2c0c06f5-87ec-46d3-80ed-1f8f83fb8f55"
      },
      "source": [
        "print('Best params for LogReg',search.best_params_)\n",
        "print('Best recall for LogReg',test_recall)\n",
        "print('Best accuracy for LogReg',test_acc)"
      ],
      "execution_count": 47,
      "outputs": [
        {
          "output_type": "stream",
          "text": [
            "Best params for LogReg {'lr__C': 0.95}\n",
            "Best recall for LogReg 0.9728260869565217\n",
            "Best accuracy for LogReg 0.7488491048593351\n"
          ],
          "name": "stdout"
        }
      ]
    },
    {
      "cell_type": "code",
      "metadata": {
        "id": "cxor12oS1FVA",
        "colab": {
          "base_uri": "https://localhost:8080/"
        },
        "outputId": "67948f1d-e543-432b-8129-d71c66a41386"
      },
      "source": [
        "%%time\r\n",
        "# SGDC\r\n",
        "alpha_params = [.000001, .00001, .0001, .001, .01]\r\n",
        "\r\n",
        "param_grid = {\r\n",
        "    'SGDC__alpha': alpha_params\r\n",
        "}\r\n",
        "\r\n",
        "SGDC = SGDClassifier(random_state = 69)\r\n",
        "pipe = Pipeline([('SGDC', SGDC)])\r\n",
        "\r\n",
        "search = GridSearchCV(pipe, param_grid, cv=2, scoring='recall' )\r\n",
        "search.fit(np.concatenate((X_train, X_valid)), np.concatenate((y_train, y_valid)))\r\n",
        "\r\n",
        "test_recall = recall_score(search.predict(X_test), y_test)\r\n",
        "test_recalls.append(test_recall)\r\n",
        "\r\n",
        "search = GridSearchCV(pipe, param_grid, cv=2, scoring='accuracy' )\r\n",
        "search.fit(np.concatenate((X_train, X_valid)), np.concatenate((y_train, y_valid)))\r\n",
        "\r\n",
        "test_acc = accuracy_score(search.predict(X_test), y_test)\r\n",
        "test_accs.append(test_acc)\r\n",
        "\r\n",
        "# test scores"
      ],
      "execution_count": 48,
      "outputs": [
        {
          "output_type": "stream",
          "text": [
            "CPU times: user 3.72 s, sys: 2.32 s, total: 6.05 s\n",
            "Wall time: 3.47 s\n"
          ],
          "name": "stdout"
        }
      ]
    },
    {
      "cell_type": "code",
      "metadata": {
        "id": "aItNM8GJu5AQ",
        "colab": {
          "base_uri": "https://localhost:8080/"
        },
        "outputId": "d7d5d9c7-0cdc-4122-b70f-5251b24c5061"
      },
      "source": [
        "print('Best params for SGD',search.best_params_)\n",
        "print('Best recall for SGD',test_recall)\n",
        "print('Best accuracy for SGD',test_acc)"
      ],
      "execution_count": 49,
      "outputs": [
        {
          "output_type": "stream",
          "text": [
            "Best params for SGD {'SGDC__alpha': 0.001}\n",
            "Best recall for SGD 0.4881291547958215\n",
            "Best accuracy for SGD 0.7746803069053708\n"
          ],
          "name": "stdout"
        }
      ]
    },
    {
      "cell_type": "code",
      "metadata": {
        "id": "SIcnG7eH3HAH",
        "colab": {
          "base_uri": "https://localhost:8080/"
        },
        "outputId": "1193c942-815f-4066-a6de-c79ac2c0013b"
      },
      "source": [
        "%%time\r\n",
        "var_params = [1e-7, 1e-8, 1e-9, 1e-10, 1e-11]\r\n",
        "\r\n",
        "param_grid = {\r\n",
        "    'nb__var_smoothing': var_params\r\n",
        "}\r\n",
        "\r\n",
        "nb = GaussianNB()\r\n",
        "pipe = Pipeline([('nb', nb)])\r\n",
        "\r\n",
        "search = GridSearchCV(pipe, param_grid, cv=2, scoring='recall' )\r\n",
        "search.fit(np.concatenate((X_train, X_valid)), np.concatenate((y_train, y_valid)))\r\n",
        "\r\n",
        "test_recall = recall_score(search.predict(X_test), y_test)\r\n",
        "test_recalls.append(test_recall)\r\n",
        "\r\n",
        "search = GridSearchCV(pipe, param_grid, cv=2, scoring='accuracy' )\r\n",
        "search.fit(np.concatenate((X_train, X_valid)), np.concatenate((y_train, y_valid)))\r\n",
        "\r\n",
        "test_acc = accuracy_score(search.predict(X_test), y_test)\r\n",
        "test_accs.append(test_acc)\r\n",
        "\r\n",
        "# test scores"
      ],
      "execution_count": 50,
      "outputs": [
        {
          "output_type": "stream",
          "text": [
            "CPU times: user 493 ms, sys: 97.6 ms, total: 591 ms\n",
            "Wall time: 505 ms\n"
          ],
          "name": "stdout"
        }
      ]
    },
    {
      "cell_type": "code",
      "metadata": {
        "id": "qnGXPq7NvA_J",
        "colab": {
          "base_uri": "https://localhost:8080/"
        },
        "outputId": "3541934a-16bc-47d5-d00d-b8ae6d21642e"
      },
      "source": [
        "print('Best params for NB',search.best_params_)\n",
        "print('Best recall for NB',test_recall)\n",
        "print('Best accuracy for NB',test_acc)"
      ],
      "execution_count": 51,
      "outputs": [
        {
          "output_type": "stream",
          "text": [
            "Best params for NB {'nb__var_smoothing': 1e-07}\n",
            "Best recall for NB 0.9368231046931408\n",
            "Best accuracy for NB 0.951918158567775\n"
          ],
          "name": "stdout"
        }
      ]
    },
    {
      "cell_type": "code",
      "metadata": {
        "id": "sg3XEkpgEpgZ",
        "colab": {
          "base_uri": "https://localhost:8080/"
        },
        "outputId": "61f93b9f-1e5c-4adf-e44e-65dce99a4c53"
      },
      "source": [
        "%%time\n",
        "depth_params = [2, 3, 5, 7, 8, 10]\n",
        "\n",
        "param_grid = {\n",
        "    'rf__max_depth': depth_params\n",
        "}\n",
        "\n",
        "rf = RandomForestClassifier(random_state = 69)\n",
        "pipe = Pipeline([('rf', rf)])\n",
        "\n",
        "search = GridSearchCV(pipe, param_grid, cv=2, scoring='recall' )\n",
        "search.fit(np.concatenate((X_train, X_valid)), np.concatenate((y_train, y_valid)))\n",
        "\n",
        "test_recall = recall_score(search.predict(X_test), y_test)\n",
        "print(test_recall)\n",
        "test_recalls.append(test_recall)\n",
        "\n",
        "search = GridSearchCV(pipe, param_grid, cv=2, scoring='accuracy' )\n",
        "search.fit(np.concatenate((X_train, X_valid)), np.concatenate((y_train, y_valid)))\n",
        "\n",
        "test_acc = accuracy_score(search.predict(X_test), y_test)\n",
        "print(test_acc)\n",
        "test_accs.append(test_acc)\n",
        "\n",
        "# test scores"
      ],
      "execution_count": 52,
      "outputs": [
        {
          "output_type": "stream",
          "text": [
            "0.9916897506925207\n",
            "0.9767263427109975\n",
            "CPU times: user 44.9 s, sys: 22.3 ms, total: 44.9 s\n",
            "Wall time: 45 s\n"
          ],
          "name": "stdout"
        }
      ]
    },
    {
      "cell_type": "code",
      "metadata": {
        "id": "4rtbcYtVwEp_",
        "colab": {
          "base_uri": "https://localhost:8080/"
        },
        "outputId": "5a231c35-a4ed-4358-e7b5-6f89b5ba1f06"
      },
      "source": [
        "print('Best params for Random Forest',search.best_params_)\n",
        "print('Best recall for Random Forest',test_recall)\n",
        "print('Best accuracy for Random Forest',test_acc)"
      ],
      "execution_count": 53,
      "outputs": [
        {
          "output_type": "stream",
          "text": [
            "Best params for Random Forest {'rf__max_depth': 10}\n",
            "Best recall for Random Forest 0.9916897506925207\n",
            "Best accuracy for Random Forest 0.9767263427109975\n"
          ],
          "name": "stdout"
        }
      ]
    },
    {
      "cell_type": "code",
      "metadata": {
        "id": "_2KokI4v9jiW"
      },
      "source": [
        " "
      ],
      "execution_count": 53,
      "outputs": []
    },
    {
      "cell_type": "code",
      "metadata": {
        "id": "nhzzwY27-XPH"
      },
      "source": [
        " "
      ],
      "execution_count": 53,
      "outputs": []
    },
    {
      "cell_type": "code",
      "metadata": {
        "id": "qYxNJBor7ukJ",
        "colab": {
          "base_uri": "https://localhost:8080/",
          "height": 435
        },
        "outputId": "6e65bdb0-0065-45ee-d68a-6d421b1b85ec"
      },
      "source": [
        "from matplotlib.pyplot import figure\r\n",
        "figure(num=None, figsize=(14, 6), dpi=80, facecolor='w', edgecolor='k')\r\n",
        "\r\n",
        "\r\n",
        "N = 5\r\n",
        "ind = np.arange(N) \r\n",
        "width = .35\r\n",
        " \r\n",
        "plt.bar(ind, test_accs, width, label='Accuracy')\r\n",
        "plt.bar(ind + width, test_recalls, width, label='Recalls')\r\n",
        "\r\n",
        "plt.ylabel('Scores')\r\n",
        "plt.title('Scores by group and gender')\r\n",
        "\r\n",
        "plt.xticks(ind+ width / 2, models)\r\n",
        "plt.legend(loc='best')\r\n",
        "plt.show()"
      ],
      "execution_count": 54,
      "outputs": [
        {
          "output_type": "display_data",
          "data": {
            "image/png": "[encoded data removed]",
            "text/plain": [
              "<Figure size 1120x480 with 1 Axes>"
            ]
          },
          "metadata": {
            "tags": []
          }
        }
      ]
    },
    {
      "cell_type": "code",
      "metadata": {
        "id": "H03TzBHgr5YI"
      },
      "source": [
        ""
      ],
      "execution_count": 54,
      "outputs": []
    }
  ]
}
